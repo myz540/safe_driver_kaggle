{
 "cells": [
  {
   "cell_type": "markdown",
   "metadata": {},
   "source": [
    "## Using R, impute missing values by randomly sampling from a distribution of known values"
   ]
  },
  {
   "cell_type": "code",
   "execution_count": 58,
   "metadata": {
    "collapsed": true
   },
   "outputs": [],
   "source": [
    "raw_train <- read.csv(\"../data/imputed_train.csv\")\n",
    "raw_test <- read.csv(\"../data/test.csv\")"
   ]
  },
  {
   "cell_type": "code",
   "execution_count": 60,
   "metadata": {},
   "outputs": [
    {
     "data": {
      "text/html": [
       "<table>\n",
       "<thead><tr><th scope=col>target</th><th scope=col>ps_ind_01</th><th scope=col>ps_ind_02_cat</th><th scope=col>ps_ind_03</th><th scope=col>ps_ind_04_cat</th><th scope=col>ps_ind_05_cat</th><th scope=col>ps_ind_06_bin</th><th scope=col>ps_ind_07_bin</th><th scope=col>ps_ind_08_bin</th><th scope=col>ps_ind_09_bin</th><th scope=col>...</th><th scope=col>ps_calc_11</th><th scope=col>ps_calc_12</th><th scope=col>ps_calc_13</th><th scope=col>ps_calc_14</th><th scope=col>ps_calc_15_bin</th><th scope=col>ps_calc_16_bin</th><th scope=col>ps_calc_17_bin</th><th scope=col>ps_calc_18_bin</th><th scope=col>ps_calc_19_bin</th><th scope=col>ps_calc_20_bin</th></tr></thead>\n",
       "<tbody>\n",
       "\t<tr><td>0  </td><td>1  </td><td>1  </td><td>11 </td><td>1  </td><td>0  </td><td>0  </td><td>0  </td><td>0  </td><td>1  </td><td>...</td><td>7  </td><td>0  </td><td>5  </td><td>8  </td><td>1  </td><td>1  </td><td>1  </td><td>0  </td><td>0  </td><td>0  </td></tr>\n",
       "\t<tr><td>0  </td><td>5  </td><td>1  </td><td> 6 </td><td>0  </td><td>0  </td><td>1  </td><td>0  </td><td>0  </td><td>0  </td><td>...</td><td>2  </td><td>1  </td><td>6  </td><td>5  </td><td>0  </td><td>1  </td><td>1  </td><td>0  </td><td>0  </td><td>0  </td></tr>\n",
       "\t<tr><td>0  </td><td>0  </td><td>1  </td><td> 3 </td><td>0  </td><td>0  </td><td>0  </td><td>0  </td><td>1  </td><td>0  </td><td>...</td><td>5  </td><td>0  </td><td>2  </td><td>8  </td><td>0  </td><td>0  </td><td>1  </td><td>1  </td><td>0  </td><td>0  </td></tr>\n",
       "\t<tr><td>0  </td><td>5  </td><td>1  </td><td> 2 </td><td>0  </td><td>0  </td><td>0  </td><td>0  </td><td>1  </td><td>0  </td><td>...</td><td>7  </td><td>3  </td><td>4  </td><td>4  </td><td>0  </td><td>1  </td><td>1  </td><td>0  </td><td>0  </td><td>0  </td></tr>\n",
       "\t<tr><td>0  </td><td>2  </td><td>1  </td><td> 8 </td><td>1  </td><td>0  </td><td>0  </td><td>0  </td><td>0  </td><td>1  </td><td>...</td><td>4  </td><td>1  </td><td>2  </td><td>8  </td><td>1  </td><td>1  </td><td>1  </td><td>0  </td><td>1  </td><td>0  </td></tr>\n",
       "\t<tr><td>0  </td><td>1  </td><td>3  </td><td> 8 </td><td>1  </td><td>0  </td><td>1  </td><td>0  </td><td>0  </td><td>0  </td><td>...</td><td>4  </td><td>0  </td><td>1  </td><td>8  </td><td>0  </td><td>1  </td><td>1  </td><td>0  </td><td>0  </td><td>0  </td></tr>\n",
       "</tbody>\n",
       "</table>\n"
      ],
      "text/latex": [
       "\\begin{tabular}{r|llllllllllllllllllllllllllllllllllllllllllllllllllllllllll}\n",
       " target & ps\\_ind\\_01 & ps\\_ind\\_02\\_cat & ps\\_ind\\_03 & ps\\_ind\\_04\\_cat & ps\\_ind\\_05\\_cat & ps\\_ind\\_06\\_bin & ps\\_ind\\_07\\_bin & ps\\_ind\\_08\\_bin & ps\\_ind\\_09\\_bin & ... & ps\\_calc\\_11 & ps\\_calc\\_12 & ps\\_calc\\_13 & ps\\_calc\\_14 & ps\\_calc\\_15\\_bin & ps\\_calc\\_16\\_bin & ps\\_calc\\_17\\_bin & ps\\_calc\\_18\\_bin & ps\\_calc\\_19\\_bin & ps\\_calc\\_20\\_bin\\\\\n",
       "\\hline\n",
       "\t 0   & 1   & 1   & 11  & 1   & 0   & 0   & 0   & 0   & 1   & ... & 7   & 0   & 5   & 8   & 1   & 1   & 1   & 0   & 0   & 0  \\\\\n",
       "\t 0   & 5   & 1   &  6  & 0   & 0   & 1   & 0   & 0   & 0   & ... & 2   & 1   & 6   & 5   & 0   & 1   & 1   & 0   & 0   & 0  \\\\\n",
       "\t 0   & 0   & 1   &  3  & 0   & 0   & 0   & 0   & 1   & 0   & ... & 5   & 0   & 2   & 8   & 0   & 0   & 1   & 1   & 0   & 0  \\\\\n",
       "\t 0   & 5   & 1   &  2  & 0   & 0   & 0   & 0   & 1   & 0   & ... & 7   & 3   & 4   & 4   & 0   & 1   & 1   & 0   & 0   & 0  \\\\\n",
       "\t 0   & 2   & 1   &  8  & 1   & 0   & 0   & 0   & 0   & 1   & ... & 4   & 1   & 2   & 8   & 1   & 1   & 1   & 0   & 1   & 0  \\\\\n",
       "\t 0   & 1   & 3   &  8  & 1   & 0   & 1   & 0   & 0   & 0   & ... & 4   & 0   & 1   & 8   & 0   & 1   & 1   & 0   & 0   & 0  \\\\\n",
       "\\end{tabular}\n"
      ],
      "text/markdown": [
       "\n",
       "target | ps_ind_01 | ps_ind_02_cat | ps_ind_03 | ps_ind_04_cat | ps_ind_05_cat | ps_ind_06_bin | ps_ind_07_bin | ps_ind_08_bin | ps_ind_09_bin | ... | ps_calc_11 | ps_calc_12 | ps_calc_13 | ps_calc_14 | ps_calc_15_bin | ps_calc_16_bin | ps_calc_17_bin | ps_calc_18_bin | ps_calc_19_bin | ps_calc_20_bin | \n",
       "|---|---|---|---|---|---|\n",
       "| 0   | 1   | 1   | 11  | 1   | 0   | 0   | 0   | 0   | 1   | ... | 7   | 0   | 5   | 8   | 1   | 1   | 1   | 0   | 0   | 0   | \n",
       "| 0   | 5   | 1   |  6  | 0   | 0   | 1   | 0   | 0   | 0   | ... | 2   | 1   | 6   | 5   | 0   | 1   | 1   | 0   | 0   | 0   | \n",
       "| 0   | 0   | 1   |  3  | 0   | 0   | 0   | 0   | 1   | 0   | ... | 5   | 0   | 2   | 8   | 0   | 0   | 1   | 1   | 0   | 0   | \n",
       "| 0   | 5   | 1   |  2  | 0   | 0   | 0   | 0   | 1   | 0   | ... | 7   | 3   | 4   | 4   | 0   | 1   | 1   | 0   | 0   | 0   | \n",
       "| 0   | 2   | 1   |  8  | 1   | 0   | 0   | 0   | 0   | 1   | ... | 4   | 1   | 2   | 8   | 1   | 1   | 1   | 0   | 1   | 0   | \n",
       "| 0   | 1   | 3   |  8  | 1   | 0   | 1   | 0   | 0   | 0   | ... | 4   | 0   | 1   | 8   | 0   | 1   | 1   | 0   | 0   | 0   | \n",
       "\n",
       "\n"
      ],
      "text/plain": [
       "  target ps_ind_01 ps_ind_02_cat ps_ind_03 ps_ind_04_cat ps_ind_05_cat\n",
       "1 0      1         1             11        1             0            \n",
       "2 0      5         1              6        0             0            \n",
       "3 0      0         1              3        0             0            \n",
       "4 0      5         1              2        0             0            \n",
       "5 0      2         1              8        1             0            \n",
       "6 0      1         3              8        1             0            \n",
       "  ps_ind_06_bin ps_ind_07_bin ps_ind_08_bin ps_ind_09_bin ... ps_calc_11\n",
       "1 0             0             0             1             ... 7         \n",
       "2 1             0             0             0             ... 2         \n",
       "3 0             0             1             0             ... 5         \n",
       "4 0             0             1             0             ... 7         \n",
       "5 0             0             0             1             ... 4         \n",
       "6 1             0             0             0             ... 4         \n",
       "  ps_calc_12 ps_calc_13 ps_calc_14 ps_calc_15_bin ps_calc_16_bin ps_calc_17_bin\n",
       "1 0          5          8          1              1              1             \n",
       "2 1          6          5          0              1              1             \n",
       "3 0          2          8          0              0              1             \n",
       "4 3          4          4          0              1              1             \n",
       "5 1          2          8          1              1              1             \n",
       "6 0          1          8          0              1              1             \n",
       "  ps_calc_18_bin ps_calc_19_bin ps_calc_20_bin\n",
       "1 0              0              0             \n",
       "2 0              0              0             \n",
       "3 1              0              0             \n",
       "4 0              0              0             \n",
       "5 0              1              0             \n",
       "6 0              0              0             "
      ]
     },
     "metadata": {},
     "output_type": "display_data"
    },
    {
     "data": {
      "text/html": [
       "<table>\n",
       "<thead><tr><th scope=col>id</th><th scope=col>ps_ind_01</th><th scope=col>ps_ind_02_cat</th><th scope=col>ps_ind_03</th><th scope=col>ps_ind_04_cat</th><th scope=col>ps_ind_05_cat</th><th scope=col>ps_ind_06_bin</th><th scope=col>ps_ind_07_bin</th><th scope=col>ps_ind_08_bin</th><th scope=col>ps_ind_09_bin</th><th scope=col>...</th><th scope=col>ps_calc_11</th><th scope=col>ps_calc_12</th><th scope=col>ps_calc_13</th><th scope=col>ps_calc_14</th><th scope=col>ps_calc_15_bin</th><th scope=col>ps_calc_16_bin</th><th scope=col>ps_calc_17_bin</th><th scope=col>ps_calc_18_bin</th><th scope=col>ps_calc_19_bin</th><th scope=col>ps_calc_20_bin</th></tr></thead>\n",
       "<tbody>\n",
       "\t<tr><td>0  </td><td>0  </td><td>1  </td><td>8  </td><td>1  </td><td>0  </td><td>0  </td><td>1  </td><td>0  </td><td>0  </td><td>...</td><td>1  </td><td>1  </td><td>1  </td><td>12 </td><td>0  </td><td>1  </td><td>1  </td><td>0  </td><td>0  </td><td>1  </td></tr>\n",
       "\t<tr><td>1  </td><td>4  </td><td>2  </td><td>5  </td><td>1  </td><td>0  </td><td>0  </td><td>0  </td><td>0  </td><td>1  </td><td>...</td><td>2  </td><td>0  </td><td>3  </td><td>10 </td><td>0  </td><td>0  </td><td>1  </td><td>1  </td><td>0  </td><td>1  </td></tr>\n",
       "\t<tr><td>2  </td><td>5  </td><td>1  </td><td>3  </td><td>0  </td><td>0  </td><td>0  </td><td>0  </td><td>0  </td><td>1  </td><td>...</td><td>4  </td><td>0  </td><td>2  </td><td> 4 </td><td>0  </td><td>0  </td><td>0  </td><td>0  </td><td>0  </td><td>0  </td></tr>\n",
       "\t<tr><td>3  </td><td>0  </td><td>1  </td><td>6  </td><td>0  </td><td>0  </td><td>1  </td><td>0  </td><td>0  </td><td>0  </td><td>...</td><td>5  </td><td>1  </td><td>0  </td><td> 5 </td><td>1  </td><td>0  </td><td>1  </td><td>0  </td><td>0  </td><td>0  </td></tr>\n",
       "\t<tr><td>4  </td><td>5  </td><td>1  </td><td>7  </td><td>0  </td><td>0  </td><td>0  </td><td>0  </td><td>0  </td><td>1  </td><td>...</td><td>4  </td><td>0  </td><td>0  </td><td> 4 </td><td>0  </td><td>1  </td><td>1  </td><td>0  </td><td>0  </td><td>1  </td></tr>\n",
       "\t<tr><td>5  </td><td>0  </td><td>1  </td><td>6  </td><td>0  </td><td>0  </td><td>1  </td><td>0  </td><td>0  </td><td>0  </td><td>...</td><td>8  </td><td>1  </td><td>4  </td><td> 9 </td><td>1  </td><td>0  </td><td>1  </td><td>0  </td><td>1  </td><td>0  </td></tr>\n",
       "</tbody>\n",
       "</table>\n"
      ],
      "text/latex": [
       "\\begin{tabular}{r|llllllllllllllllllllllllllllllllllllllllllllllllllllllllll}\n",
       " id & ps\\_ind\\_01 & ps\\_ind\\_02\\_cat & ps\\_ind\\_03 & ps\\_ind\\_04\\_cat & ps\\_ind\\_05\\_cat & ps\\_ind\\_06\\_bin & ps\\_ind\\_07\\_bin & ps\\_ind\\_08\\_bin & ps\\_ind\\_09\\_bin & ... & ps\\_calc\\_11 & ps\\_calc\\_12 & ps\\_calc\\_13 & ps\\_calc\\_14 & ps\\_calc\\_15\\_bin & ps\\_calc\\_16\\_bin & ps\\_calc\\_17\\_bin & ps\\_calc\\_18\\_bin & ps\\_calc\\_19\\_bin & ps\\_calc\\_20\\_bin\\\\\n",
       "\\hline\n",
       "\t 0   & 0   & 1   & 8   & 1   & 0   & 0   & 1   & 0   & 0   & ... & 1   & 1   & 1   & 12  & 0   & 1   & 1   & 0   & 0   & 1  \\\\\n",
       "\t 1   & 4   & 2   & 5   & 1   & 0   & 0   & 0   & 0   & 1   & ... & 2   & 0   & 3   & 10  & 0   & 0   & 1   & 1   & 0   & 1  \\\\\n",
       "\t 2   & 5   & 1   & 3   & 0   & 0   & 0   & 0   & 0   & 1   & ... & 4   & 0   & 2   &  4  & 0   & 0   & 0   & 0   & 0   & 0  \\\\\n",
       "\t 3   & 0   & 1   & 6   & 0   & 0   & 1   & 0   & 0   & 0   & ... & 5   & 1   & 0   &  5  & 1   & 0   & 1   & 0   & 0   & 0  \\\\\n",
       "\t 4   & 5   & 1   & 7   & 0   & 0   & 0   & 0   & 0   & 1   & ... & 4   & 0   & 0   &  4  & 0   & 1   & 1   & 0   & 0   & 1  \\\\\n",
       "\t 5   & 0   & 1   & 6   & 0   & 0   & 1   & 0   & 0   & 0   & ... & 8   & 1   & 4   &  9  & 1   & 0   & 1   & 0   & 1   & 0  \\\\\n",
       "\\end{tabular}\n"
      ],
      "text/markdown": [
       "\n",
       "id | ps_ind_01 | ps_ind_02_cat | ps_ind_03 | ps_ind_04_cat | ps_ind_05_cat | ps_ind_06_bin | ps_ind_07_bin | ps_ind_08_bin | ps_ind_09_bin | ... | ps_calc_11 | ps_calc_12 | ps_calc_13 | ps_calc_14 | ps_calc_15_bin | ps_calc_16_bin | ps_calc_17_bin | ps_calc_18_bin | ps_calc_19_bin | ps_calc_20_bin | \n",
       "|---|---|---|---|---|---|\n",
       "| 0   | 0   | 1   | 8   | 1   | 0   | 0   | 1   | 0   | 0   | ... | 1   | 1   | 1   | 12  | 0   | 1   | 1   | 0   | 0   | 1   | \n",
       "| 1   | 4   | 2   | 5   | 1   | 0   | 0   | 0   | 0   | 1   | ... | 2   | 0   | 3   | 10  | 0   | 0   | 1   | 1   | 0   | 1   | \n",
       "| 2   | 5   | 1   | 3   | 0   | 0   | 0   | 0   | 0   | 1   | ... | 4   | 0   | 2   |  4  | 0   | 0   | 0   | 0   | 0   | 0   | \n",
       "| 3   | 0   | 1   | 6   | 0   | 0   | 1   | 0   | 0   | 0   | ... | 5   | 1   | 0   |  5  | 1   | 0   | 1   | 0   | 0   | 0   | \n",
       "| 4   | 5   | 1   | 7   | 0   | 0   | 0   | 0   | 0   | 1   | ... | 4   | 0   | 0   |  4  | 0   | 1   | 1   | 0   | 0   | 1   | \n",
       "| 5   | 0   | 1   | 6   | 0   | 0   | 1   | 0   | 0   | 0   | ... | 8   | 1   | 4   |  9  | 1   | 0   | 1   | 0   | 1   | 0   | \n",
       "\n",
       "\n"
      ],
      "text/plain": [
       "  id ps_ind_01 ps_ind_02_cat ps_ind_03 ps_ind_04_cat ps_ind_05_cat\n",
       "1 0  0         1             8         1             0            \n",
       "2 1  4         2             5         1             0            \n",
       "3 2  5         1             3         0             0            \n",
       "4 3  0         1             6         0             0            \n",
       "5 4  5         1             7         0             0            \n",
       "6 5  0         1             6         0             0            \n",
       "  ps_ind_06_bin ps_ind_07_bin ps_ind_08_bin ps_ind_09_bin ... ps_calc_11\n",
       "1 0             1             0             0             ... 1         \n",
       "2 0             0             0             1             ... 2         \n",
       "3 0             0             0             1             ... 4         \n",
       "4 1             0             0             0             ... 5         \n",
       "5 0             0             0             1             ... 4         \n",
       "6 1             0             0             0             ... 8         \n",
       "  ps_calc_12 ps_calc_13 ps_calc_14 ps_calc_15_bin ps_calc_16_bin ps_calc_17_bin\n",
       "1 1          1          12         0              1              1             \n",
       "2 0          3          10         0              0              1             \n",
       "3 0          2           4         0              0              0             \n",
       "4 1          0           5         1              0              1             \n",
       "5 0          0           4         0              1              1             \n",
       "6 1          4           9         1              0              1             \n",
       "  ps_calc_18_bin ps_calc_19_bin ps_calc_20_bin\n",
       "1 0              0              1             \n",
       "2 1              0              1             \n",
       "3 0              0              0             \n",
       "4 0              0              0             \n",
       "5 0              0              1             \n",
       "6 0              1              0             "
      ]
     },
     "metadata": {},
     "output_type": "display_data"
    }
   ],
   "source": [
    "head(raw_train)\n",
    "head(raw_test)"
   ]
  },
  {
   "cell_type": "code",
   "execution_count": 61,
   "metadata": {},
   "outputs": [
    {
     "data": {
      "text/html": [
       "<ol class=list-inline>\n",
       "\t<li>595212</li>\n",
       "\t<li>58</li>\n",
       "</ol>\n"
      ],
      "text/latex": [
       "\\begin{enumerate*}\n",
       "\\item 595212\n",
       "\\item 58\n",
       "\\end{enumerate*}\n"
      ],
      "text/markdown": [
       "1. 595212\n",
       "2. 58\n",
       "\n",
       "\n"
      ],
      "text/plain": [
       "[1] 595212     58"
      ]
     },
     "metadata": {},
     "output_type": "display_data"
    },
    {
     "data": {
      "text/html": [
       "<ol class=list-inline>\n",
       "\t<li>892816</li>\n",
       "\t<li>58</li>\n",
       "</ol>\n"
      ],
      "text/latex": [
       "\\begin{enumerate*}\n",
       "\\item 892816\n",
       "\\item 58\n",
       "\\end{enumerate*}\n"
      ],
      "text/markdown": [
       "1. 892816\n",
       "2. 58\n",
       "\n",
       "\n"
      ],
      "text/plain": [
       "[1] 892816     58"
      ]
     },
     "metadata": {},
     "output_type": "display_data"
    }
   ],
   "source": [
    "m <- nrow(raw_train)\n",
    "n <- ncol(raw_train)\n",
    "dim(raw_train)\n",
    "dim(raw_test)"
   ]
  },
  {
   "cell_type": "code",
   "execution_count": 62,
   "metadata": {
    "scrolled": true
   },
   "outputs": [
    {
     "data": {
      "text/html": [
       "<table>\n",
       "<thead><tr><th scope=col>ps_ind_01</th><th scope=col>ps_ind_02_cat</th><th scope=col>ps_ind_03</th><th scope=col>ps_ind_04_cat</th><th scope=col>ps_ind_05_cat</th><th scope=col>ps_ind_06_bin</th><th scope=col>ps_ind_07_bin</th><th scope=col>ps_ind_08_bin</th><th scope=col>ps_ind_09_bin</th><th scope=col>ps_ind_10_bin</th><th scope=col>...</th><th scope=col>ps_calc_11</th><th scope=col>ps_calc_12</th><th scope=col>ps_calc_13</th><th scope=col>ps_calc_14</th><th scope=col>ps_calc_15_bin</th><th scope=col>ps_calc_16_bin</th><th scope=col>ps_calc_17_bin</th><th scope=col>ps_calc_18_bin</th><th scope=col>ps_calc_19_bin</th><th scope=col>ps_calc_20_bin</th></tr></thead>\n",
       "<tbody>\n",
       "\t<tr><td>1  </td><td>1  </td><td>11 </td><td>1  </td><td>0  </td><td>0  </td><td>0  </td><td>0  </td><td>1  </td><td>0  </td><td>...</td><td>7  </td><td>0  </td><td>5  </td><td>8  </td><td>1  </td><td>1  </td><td>1  </td><td>0  </td><td>0  </td><td>0  </td></tr>\n",
       "\t<tr><td>5  </td><td>1  </td><td> 6 </td><td>0  </td><td>0  </td><td>1  </td><td>0  </td><td>0  </td><td>0  </td><td>0  </td><td>...</td><td>2  </td><td>1  </td><td>6  </td><td>5  </td><td>0  </td><td>1  </td><td>1  </td><td>0  </td><td>0  </td><td>0  </td></tr>\n",
       "\t<tr><td>0  </td><td>1  </td><td> 3 </td><td>0  </td><td>0  </td><td>0  </td><td>0  </td><td>1  </td><td>0  </td><td>0  </td><td>...</td><td>5  </td><td>0  </td><td>2  </td><td>8  </td><td>0  </td><td>0  </td><td>1  </td><td>1  </td><td>0  </td><td>0  </td></tr>\n",
       "\t<tr><td>5  </td><td>1  </td><td> 2 </td><td>0  </td><td>0  </td><td>0  </td><td>0  </td><td>1  </td><td>0  </td><td>0  </td><td>...</td><td>7  </td><td>3  </td><td>4  </td><td>4  </td><td>0  </td><td>1  </td><td>1  </td><td>0  </td><td>0  </td><td>0  </td></tr>\n",
       "\t<tr><td>2  </td><td>1  </td><td> 8 </td><td>1  </td><td>0  </td><td>0  </td><td>0  </td><td>0  </td><td>1  </td><td>0  </td><td>...</td><td>4  </td><td>1  </td><td>2  </td><td>8  </td><td>1  </td><td>1  </td><td>1  </td><td>0  </td><td>1  </td><td>0  </td></tr>\n",
       "\t<tr><td>1  </td><td>3  </td><td> 8 </td><td>1  </td><td>0  </td><td>1  </td><td>0  </td><td>0  </td><td>0  </td><td>0  </td><td>...</td><td>4  </td><td>0  </td><td>1  </td><td>8  </td><td>0  </td><td>1  </td><td>1  </td><td>0  </td><td>0  </td><td>0  </td></tr>\n",
       "</tbody>\n",
       "</table>\n"
      ],
      "text/latex": [
       "\\begin{tabular}{r|lllllllllllllllllllllllllllllllllllllllllllllllllllllllll}\n",
       " ps\\_ind\\_01 & ps\\_ind\\_02\\_cat & ps\\_ind\\_03 & ps\\_ind\\_04\\_cat & ps\\_ind\\_05\\_cat & ps\\_ind\\_06\\_bin & ps\\_ind\\_07\\_bin & ps\\_ind\\_08\\_bin & ps\\_ind\\_09\\_bin & ps\\_ind\\_10\\_bin & ... & ps\\_calc\\_11 & ps\\_calc\\_12 & ps\\_calc\\_13 & ps\\_calc\\_14 & ps\\_calc\\_15\\_bin & ps\\_calc\\_16\\_bin & ps\\_calc\\_17\\_bin & ps\\_calc\\_18\\_bin & ps\\_calc\\_19\\_bin & ps\\_calc\\_20\\_bin\\\\\n",
       "\\hline\n",
       "\t 1   & 1   & 11  & 1   & 0   & 0   & 0   & 0   & 1   & 0   & ... & 7   & 0   & 5   & 8   & 1   & 1   & 1   & 0   & 0   & 0  \\\\\n",
       "\t 5   & 1   &  6  & 0   & 0   & 1   & 0   & 0   & 0   & 0   & ... & 2   & 1   & 6   & 5   & 0   & 1   & 1   & 0   & 0   & 0  \\\\\n",
       "\t 0   & 1   &  3  & 0   & 0   & 0   & 0   & 1   & 0   & 0   & ... & 5   & 0   & 2   & 8   & 0   & 0   & 1   & 1   & 0   & 0  \\\\\n",
       "\t 5   & 1   &  2  & 0   & 0   & 0   & 0   & 1   & 0   & 0   & ... & 7   & 3   & 4   & 4   & 0   & 1   & 1   & 0   & 0   & 0  \\\\\n",
       "\t 2   & 1   &  8  & 1   & 0   & 0   & 0   & 0   & 1   & 0   & ... & 4   & 1   & 2   & 8   & 1   & 1   & 1   & 0   & 1   & 0  \\\\\n",
       "\t 1   & 3   &  8  & 1   & 0   & 1   & 0   & 0   & 0   & 0   & ... & 4   & 0   & 1   & 8   & 0   & 1   & 1   & 0   & 0   & 0  \\\\\n",
       "\\end{tabular}\n"
      ],
      "text/markdown": [
       "\n",
       "ps_ind_01 | ps_ind_02_cat | ps_ind_03 | ps_ind_04_cat | ps_ind_05_cat | ps_ind_06_bin | ps_ind_07_bin | ps_ind_08_bin | ps_ind_09_bin | ps_ind_10_bin | ... | ps_calc_11 | ps_calc_12 | ps_calc_13 | ps_calc_14 | ps_calc_15_bin | ps_calc_16_bin | ps_calc_17_bin | ps_calc_18_bin | ps_calc_19_bin | ps_calc_20_bin | \n",
       "|---|---|---|---|---|---|\n",
       "| 1   | 1   | 11  | 1   | 0   | 0   | 0   | 0   | 1   | 0   | ... | 7   | 0   | 5   | 8   | 1   | 1   | 1   | 0   | 0   | 0   | \n",
       "| 5   | 1   |  6  | 0   | 0   | 1   | 0   | 0   | 0   | 0   | ... | 2   | 1   | 6   | 5   | 0   | 1   | 1   | 0   | 0   | 0   | \n",
       "| 0   | 1   |  3  | 0   | 0   | 0   | 0   | 1   | 0   | 0   | ... | 5   | 0   | 2   | 8   | 0   | 0   | 1   | 1   | 0   | 0   | \n",
       "| 5   | 1   |  2  | 0   | 0   | 0   | 0   | 1   | 0   | 0   | ... | 7   | 3   | 4   | 4   | 0   | 1   | 1   | 0   | 0   | 0   | \n",
       "| 2   | 1   |  8  | 1   | 0   | 0   | 0   | 0   | 1   | 0   | ... | 4   | 1   | 2   | 8   | 1   | 1   | 1   | 0   | 1   | 0   | \n",
       "| 1   | 3   |  8  | 1   | 0   | 1   | 0   | 0   | 0   | 0   | ... | 4   | 0   | 1   | 8   | 0   | 1   | 1   | 0   | 0   | 0   | \n",
       "\n",
       "\n"
      ],
      "text/plain": [
       "  ps_ind_01 ps_ind_02_cat ps_ind_03 ps_ind_04_cat ps_ind_05_cat ps_ind_06_bin\n",
       "1 1         1             11        1             0             0            \n",
       "2 5         1              6        0             0             1            \n",
       "3 0         1              3        0             0             0            \n",
       "4 5         1              2        0             0             0            \n",
       "5 2         1              8        1             0             0            \n",
       "6 1         3              8        1             0             1            \n",
       "  ps_ind_07_bin ps_ind_08_bin ps_ind_09_bin ps_ind_10_bin ... ps_calc_11\n",
       "1 0             0             1             0             ... 7         \n",
       "2 0             0             0             0             ... 2         \n",
       "3 0             1             0             0             ... 5         \n",
       "4 0             1             0             0             ... 7         \n",
       "5 0             0             1             0             ... 4         \n",
       "6 0             0             0             0             ... 4         \n",
       "  ps_calc_12 ps_calc_13 ps_calc_14 ps_calc_15_bin ps_calc_16_bin ps_calc_17_bin\n",
       "1 0          5          8          1              1              1             \n",
       "2 1          6          5          0              1              1             \n",
       "3 0          2          8          0              0              1             \n",
       "4 3          4          4          0              1              1             \n",
       "5 1          2          8          1              1              1             \n",
       "6 0          1          8          0              1              1             \n",
       "  ps_calc_18_bin ps_calc_19_bin ps_calc_20_bin\n",
       "1 0              0              0             \n",
       "2 0              0              0             \n",
       "3 1              0              0             \n",
       "4 0              0              0             \n",
       "5 0              1              0             \n",
       "6 0              0              0             "
      ]
     },
     "metadata": {},
     "output_type": "display_data"
    },
    {
     "data": {
      "text/html": [
       "<ol class=list-inline>\n",
       "\t<li>595212</li>\n",
       "\t<li>57</li>\n",
       "</ol>\n"
      ],
      "text/latex": [
       "\\begin{enumerate*}\n",
       "\\item 595212\n",
       "\\item 57\n",
       "\\end{enumerate*}\n"
      ],
      "text/markdown": [
       "1. 595212\n",
       "2. 57\n",
       "\n",
       "\n"
      ],
      "text/plain": [
       "[1] 595212     57"
      ]
     },
     "metadata": {},
     "output_type": "display_data"
    }
   ],
   "source": [
    "df_full <- train[ , 2:n]\n",
    "head(df_full)\n",
    "dim(df_full)"
   ]
  },
  {
   "cell_type": "code",
   "execution_count": 80,
   "metadata": {
    "collapsed": true
   },
   "outputs": [],
   "source": [
    "raw_test[raw_test == -1] <- NA"
   ]
  },
  {
   "cell_type": "code",
   "execution_count": 92,
   "metadata": {},
   "outputs": [
    {
     "data": {
      "text/html": [
       "<table>\n",
       "<thead><tr><th scope=col>ps_ind_01</th><th scope=col>ps_ind_02_cat</th><th scope=col>ps_ind_03</th><th scope=col>ps_ind_04_cat</th><th scope=col>ps_ind_05_cat</th><th scope=col>ps_ind_06_bin</th><th scope=col>ps_ind_07_bin</th><th scope=col>ps_ind_08_bin</th><th scope=col>ps_ind_09_bin</th><th scope=col>ps_ind_10_bin</th><th scope=col>...</th><th scope=col>ps_calc_11</th><th scope=col>ps_calc_12</th><th scope=col>ps_calc_13</th><th scope=col>ps_calc_14</th><th scope=col>ps_calc_15_bin</th><th scope=col>ps_calc_16_bin</th><th scope=col>ps_calc_17_bin</th><th scope=col>ps_calc_18_bin</th><th scope=col>ps_calc_19_bin</th><th scope=col>ps_calc_20_bin</th></tr></thead>\n",
       "<tbody>\n",
       "\t<tr><td>0  </td><td>1  </td><td>8  </td><td>1  </td><td>0  </td><td>0  </td><td>1  </td><td>0  </td><td>0  </td><td>0  </td><td>...</td><td>1  </td><td>1  </td><td>1  </td><td>12 </td><td>0  </td><td>1  </td><td>1  </td><td>0  </td><td>0  </td><td>1  </td></tr>\n",
       "\t<tr><td>4  </td><td>2  </td><td>5  </td><td>1  </td><td>0  </td><td>0  </td><td>0  </td><td>0  </td><td>1  </td><td>0  </td><td>...</td><td>2  </td><td>0  </td><td>3  </td><td>10 </td><td>0  </td><td>0  </td><td>1  </td><td>1  </td><td>0  </td><td>1  </td></tr>\n",
       "\t<tr><td>5  </td><td>1  </td><td>3  </td><td>0  </td><td>0  </td><td>0  </td><td>0  </td><td>0  </td><td>1  </td><td>0  </td><td>...</td><td>4  </td><td>0  </td><td>2  </td><td> 4 </td><td>0  </td><td>0  </td><td>0  </td><td>0  </td><td>0  </td><td>0  </td></tr>\n",
       "\t<tr><td>0  </td><td>1  </td><td>6  </td><td>0  </td><td>0  </td><td>1  </td><td>0  </td><td>0  </td><td>0  </td><td>0  </td><td>...</td><td>5  </td><td>1  </td><td>0  </td><td> 5 </td><td>1  </td><td>0  </td><td>1  </td><td>0  </td><td>0  </td><td>0  </td></tr>\n",
       "\t<tr><td>5  </td><td>1  </td><td>7  </td><td>0  </td><td>0  </td><td>0  </td><td>0  </td><td>0  </td><td>1  </td><td>0  </td><td>...</td><td>4  </td><td>0  </td><td>0  </td><td> 4 </td><td>0  </td><td>1  </td><td>1  </td><td>0  </td><td>0  </td><td>1  </td></tr>\n",
       "\t<tr><td>0  </td><td>1  </td><td>6  </td><td>0  </td><td>0  </td><td>1  </td><td>0  </td><td>0  </td><td>0  </td><td>0  </td><td>...</td><td>8  </td><td>1  </td><td>4  </td><td> 9 </td><td>1  </td><td>0  </td><td>1  </td><td>0  </td><td>1  </td><td>0  </td></tr>\n",
       "</tbody>\n",
       "</table>\n"
      ],
      "text/latex": [
       "\\begin{tabular}{r|lllllllllllllllllllllllllllllllllllllllllllllllllllllllll}\n",
       " ps\\_ind\\_01 & ps\\_ind\\_02\\_cat & ps\\_ind\\_03 & ps\\_ind\\_04\\_cat & ps\\_ind\\_05\\_cat & ps\\_ind\\_06\\_bin & ps\\_ind\\_07\\_bin & ps\\_ind\\_08\\_bin & ps\\_ind\\_09\\_bin & ps\\_ind\\_10\\_bin & ... & ps\\_calc\\_11 & ps\\_calc\\_12 & ps\\_calc\\_13 & ps\\_calc\\_14 & ps\\_calc\\_15\\_bin & ps\\_calc\\_16\\_bin & ps\\_calc\\_17\\_bin & ps\\_calc\\_18\\_bin & ps\\_calc\\_19\\_bin & ps\\_calc\\_20\\_bin\\\\\n",
       "\\hline\n",
       "\t 0   & 1   & 8   & 1   & 0   & 0   & 1   & 0   & 0   & 0   & ... & 1   & 1   & 1   & 12  & 0   & 1   & 1   & 0   & 0   & 1  \\\\\n",
       "\t 4   & 2   & 5   & 1   & 0   & 0   & 0   & 0   & 1   & 0   & ... & 2   & 0   & 3   & 10  & 0   & 0   & 1   & 1   & 0   & 1  \\\\\n",
       "\t 5   & 1   & 3   & 0   & 0   & 0   & 0   & 0   & 1   & 0   & ... & 4   & 0   & 2   &  4  & 0   & 0   & 0   & 0   & 0   & 0  \\\\\n",
       "\t 0   & 1   & 6   & 0   & 0   & 1   & 0   & 0   & 0   & 0   & ... & 5   & 1   & 0   &  5  & 1   & 0   & 1   & 0   & 0   & 0  \\\\\n",
       "\t 5   & 1   & 7   & 0   & 0   & 0   & 0   & 0   & 1   & 0   & ... & 4   & 0   & 0   &  4  & 0   & 1   & 1   & 0   & 0   & 1  \\\\\n",
       "\t 0   & 1   & 6   & 0   & 0   & 1   & 0   & 0   & 0   & 0   & ... & 8   & 1   & 4   &  9  & 1   & 0   & 1   & 0   & 1   & 0  \\\\\n",
       "\\end{tabular}\n"
      ],
      "text/markdown": [
       "\n",
       "ps_ind_01 | ps_ind_02_cat | ps_ind_03 | ps_ind_04_cat | ps_ind_05_cat | ps_ind_06_bin | ps_ind_07_bin | ps_ind_08_bin | ps_ind_09_bin | ps_ind_10_bin | ... | ps_calc_11 | ps_calc_12 | ps_calc_13 | ps_calc_14 | ps_calc_15_bin | ps_calc_16_bin | ps_calc_17_bin | ps_calc_18_bin | ps_calc_19_bin | ps_calc_20_bin | \n",
       "|---|---|---|---|---|---|\n",
       "| 0   | 1   | 8   | 1   | 0   | 0   | 1   | 0   | 0   | 0   | ... | 1   | 1   | 1   | 12  | 0   | 1   | 1   | 0   | 0   | 1   | \n",
       "| 4   | 2   | 5   | 1   | 0   | 0   | 0   | 0   | 1   | 0   | ... | 2   | 0   | 3   | 10  | 0   | 0   | 1   | 1   | 0   | 1   | \n",
       "| 5   | 1   | 3   | 0   | 0   | 0   | 0   | 0   | 1   | 0   | ... | 4   | 0   | 2   |  4  | 0   | 0   | 0   | 0   | 0   | 0   | \n",
       "| 0   | 1   | 6   | 0   | 0   | 1   | 0   | 0   | 0   | 0   | ... | 5   | 1   | 0   |  5  | 1   | 0   | 1   | 0   | 0   | 0   | \n",
       "| 5   | 1   | 7   | 0   | 0   | 0   | 0   | 0   | 1   | 0   | ... | 4   | 0   | 0   |  4  | 0   | 1   | 1   | 0   | 0   | 1   | \n",
       "| 0   | 1   | 6   | 0   | 0   | 1   | 0   | 0   | 0   | 0   | ... | 8   | 1   | 4   |  9  | 1   | 0   | 1   | 0   | 1   | 0   | \n",
       "\n",
       "\n"
      ],
      "text/plain": [
       "  ps_ind_01 ps_ind_02_cat ps_ind_03 ps_ind_04_cat ps_ind_05_cat ps_ind_06_bin\n",
       "1 0         1             8         1             0             0            \n",
       "2 4         2             5         1             0             0            \n",
       "3 5         1             3         0             0             0            \n",
       "4 0         1             6         0             0             1            \n",
       "5 5         1             7         0             0             0            \n",
       "6 0         1             6         0             0             1            \n",
       "  ps_ind_07_bin ps_ind_08_bin ps_ind_09_bin ps_ind_10_bin ... ps_calc_11\n",
       "1 1             0             0             0             ... 1         \n",
       "2 0             0             1             0             ... 2         \n",
       "3 0             0             1             0             ... 4         \n",
       "4 0             0             0             0             ... 5         \n",
       "5 0             0             1             0             ... 4         \n",
       "6 0             0             0             0             ... 8         \n",
       "  ps_calc_12 ps_calc_13 ps_calc_14 ps_calc_15_bin ps_calc_16_bin ps_calc_17_bin\n",
       "1 1          1          12         0              1              1             \n",
       "2 0          3          10         0              0              1             \n",
       "3 0          2           4         0              0              0             \n",
       "4 1          0           5         1              0              1             \n",
       "5 0          0           4         0              1              1             \n",
       "6 1          4           9         1              0              1             \n",
       "  ps_calc_18_bin ps_calc_19_bin ps_calc_20_bin\n",
       "1 0              0              1             \n",
       "2 1              0              1             \n",
       "3 0              0              0             \n",
       "4 0              0              0             \n",
       "5 0              0              1             \n",
       "6 0              1              0             "
      ]
     },
     "metadata": {},
     "output_type": "display_data"
    },
    {
     "data": {
      "text/html": [
       "<ol class=list-inline>\n",
       "\t<li>892816</li>\n",
       "\t<li>57</li>\n",
       "</ol>\n"
      ],
      "text/latex": [
       "\\begin{enumerate*}\n",
       "\\item 892816\n",
       "\\item 57\n",
       "\\end{enumerate*}\n"
      ],
      "text/markdown": [
       "1. 892816\n",
       "2. 57\n",
       "\n",
       "\n"
      ],
      "text/plain": [
       "[1] 892816     57"
      ]
     },
     "metadata": {},
     "output_type": "display_data"
    },
    {
     "data": {
      "text/html": [
       "<ol class=list-inline>\n",
       "\t<li>0</li>\n",
       "\t<li>1</li>\n",
       "\t<li>2</li>\n",
       "\t<li>3</li>\n",
       "\t<li>4</li>\n",
       "\t<li>5</li>\n",
       "</ol>\n"
      ],
      "text/latex": [
       "\\begin{enumerate*}\n",
       "\\item 0\n",
       "\\item 1\n",
       "\\item 2\n",
       "\\item 3\n",
       "\\item 4\n",
       "\\item 5\n",
       "\\end{enumerate*}\n"
      ],
      "text/markdown": [
       "1. 0\n",
       "2. 1\n",
       "3. 2\n",
       "4. 3\n",
       "5. 4\n",
       "6. 5\n",
       "\n",
       "\n"
      ],
      "text/plain": [
       "[1] 0 1 2 3 4 5"
      ]
     },
     "metadata": {},
     "output_type": "display_data"
    }
   ],
   "source": [
    "ids <- raw_test[ , 1]\n",
    "test <- raw_test[ , 2:ncol(raw_test)]\n",
    "head(test)\n",
    "dim(test)\n",
    "head(ids)"
   ]
  },
  {
   "cell_type": "code",
   "execution_count": 93,
   "metadata": {},
   "outputs": [
    {
     "data": {
      "text/html": [
       "<ol class=list-inline>\n",
       "\t<li>1</li>\n",
       "\t<li>2</li>\n",
       "\t<li>1</li>\n",
       "\t<li>1</li>\n",
       "\t<li>1</li>\n",
       "\t<li>1</li>\n",
       "</ol>\n"
      ],
      "text/latex": [
       "\\begin{enumerate*}\n",
       "\\item 1\n",
       "\\item 2\n",
       "\\item 1\n",
       "\\item 1\n",
       "\\item 1\n",
       "\\item 1\n",
       "\\end{enumerate*}\n"
      ],
      "text/markdown": [
       "1. 1\n",
       "2. 2\n",
       "3. 1\n",
       "4. 1\n",
       "5. 1\n",
       "6. 1\n",
       "\n",
       "\n"
      ],
      "text/plain": [
       "[1] 1 2 1 1 1 1"
      ]
     },
     "metadata": {},
     "output_type": "display_data"
    },
    {
     "data": {
      "text/html": [
       "307"
      ],
      "text/latex": [
       "307"
      ],
      "text/markdown": [
       "307"
      ],
      "text/plain": [
       "[1] 307"
      ]
     },
     "metadata": {},
     "output_type": "display_data"
    }
   ],
   "source": [
    "# for reach column, make a vector of all the known values\n",
    "col = test[ , 2]\n",
    "missing <- is.na(col)\n",
    "num_missing <- sum(missing)\n",
    "imputed <- col\n",
    "imputed[missing] <- sample(df_full$ps_ind_01, num_missing, replace=TRUE)\n",
    "head(imputed)\n",
    "num_missing\n",
    "# first column has no missing so not a good use case"
   ]
  },
  {
   "cell_type": "code",
   "execution_count": 94,
   "metadata": {},
   "outputs": [],
   "source": [
    "# use first column as starting df \n",
    "new_df = test[ , 1]"
   ]
  },
  {
   "cell_type": "code",
   "execution_count": 95,
   "metadata": {
    "scrolled": true
   },
   "outputs": [
    {
     "data": {
      "text/html": [
       "<ol class=list-inline>\n",
       "\t<li>'ps_ind_01'</li>\n",
       "\t<li>'ps_ind_02_cat'</li>\n",
       "\t<li>'ps_ind_03'</li>\n",
       "\t<li>'ps_ind_04_cat'</li>\n",
       "\t<li>'ps_ind_05_cat'</li>\n",
       "\t<li>'ps_ind_06_bin'</li>\n",
       "\t<li>'ps_ind_07_bin'</li>\n",
       "\t<li>'ps_ind_08_bin'</li>\n",
       "\t<li>'ps_ind_09_bin'</li>\n",
       "\t<li>'ps_ind_10_bin'</li>\n",
       "\t<li>'ps_ind_11_bin'</li>\n",
       "\t<li>'ps_ind_12_bin'</li>\n",
       "\t<li>'ps_ind_13_bin'</li>\n",
       "\t<li>'ps_ind_14'</li>\n",
       "\t<li>'ps_ind_15'</li>\n",
       "\t<li>'ps_ind_16_bin'</li>\n",
       "\t<li>'ps_ind_17_bin'</li>\n",
       "\t<li>'ps_ind_18_bin'</li>\n",
       "\t<li>'ps_reg_01'</li>\n",
       "\t<li>'ps_reg_02'</li>\n",
       "\t<li>'ps_reg_03'</li>\n",
       "\t<li>'ps_car_01_cat'</li>\n",
       "\t<li>'ps_car_02_cat'</li>\n",
       "\t<li>'ps_car_03_cat'</li>\n",
       "\t<li>'ps_car_04_cat'</li>\n",
       "\t<li>'ps_car_05_cat'</li>\n",
       "\t<li>'ps_car_06_cat'</li>\n",
       "\t<li>'ps_car_07_cat'</li>\n",
       "\t<li>'ps_car_08_cat'</li>\n",
       "\t<li>'ps_car_09_cat'</li>\n",
       "\t<li>'ps_car_10_cat'</li>\n",
       "\t<li>'ps_car_11_cat'</li>\n",
       "\t<li>'ps_car_11'</li>\n",
       "\t<li>'ps_car_12'</li>\n",
       "\t<li>'ps_car_13'</li>\n",
       "\t<li>'ps_car_14'</li>\n",
       "\t<li>'ps_car_15'</li>\n",
       "\t<li>'ps_calc_01'</li>\n",
       "\t<li>'ps_calc_02'</li>\n",
       "\t<li>'ps_calc_03'</li>\n",
       "\t<li>'ps_calc_04'</li>\n",
       "\t<li>'ps_calc_05'</li>\n",
       "\t<li>'ps_calc_06'</li>\n",
       "\t<li>'ps_calc_07'</li>\n",
       "\t<li>'ps_calc_08'</li>\n",
       "\t<li>'ps_calc_09'</li>\n",
       "\t<li>'ps_calc_10'</li>\n",
       "\t<li>'ps_calc_11'</li>\n",
       "\t<li>'ps_calc_12'</li>\n",
       "\t<li>'ps_calc_13'</li>\n",
       "\t<li>'ps_calc_14'</li>\n",
       "\t<li>'ps_calc_15_bin'</li>\n",
       "\t<li>'ps_calc_16_bin'</li>\n",
       "\t<li>'ps_calc_17_bin'</li>\n",
       "\t<li>'ps_calc_18_bin'</li>\n",
       "\t<li>'ps_calc_19_bin'</li>\n",
       "\t<li>'ps_calc_20_bin'</li>\n",
       "</ol>\n"
      ],
      "text/latex": [
       "\\begin{enumerate*}\n",
       "\\item 'ps\\_ind\\_01'\n",
       "\\item 'ps\\_ind\\_02\\_cat'\n",
       "\\item 'ps\\_ind\\_03'\n",
       "\\item 'ps\\_ind\\_04\\_cat'\n",
       "\\item 'ps\\_ind\\_05\\_cat'\n",
       "\\item 'ps\\_ind\\_06\\_bin'\n",
       "\\item 'ps\\_ind\\_07\\_bin'\n",
       "\\item 'ps\\_ind\\_08\\_bin'\n",
       "\\item 'ps\\_ind\\_09\\_bin'\n",
       "\\item 'ps\\_ind\\_10\\_bin'\n",
       "\\item 'ps\\_ind\\_11\\_bin'\n",
       "\\item 'ps\\_ind\\_12\\_bin'\n",
       "\\item 'ps\\_ind\\_13\\_bin'\n",
       "\\item 'ps\\_ind\\_14'\n",
       "\\item 'ps\\_ind\\_15'\n",
       "\\item 'ps\\_ind\\_16\\_bin'\n",
       "\\item 'ps\\_ind\\_17\\_bin'\n",
       "\\item 'ps\\_ind\\_18\\_bin'\n",
       "\\item 'ps\\_reg\\_01'\n",
       "\\item 'ps\\_reg\\_02'\n",
       "\\item 'ps\\_reg\\_03'\n",
       "\\item 'ps\\_car\\_01\\_cat'\n",
       "\\item 'ps\\_car\\_02\\_cat'\n",
       "\\item 'ps\\_car\\_03\\_cat'\n",
       "\\item 'ps\\_car\\_04\\_cat'\n",
       "\\item 'ps\\_car\\_05\\_cat'\n",
       "\\item 'ps\\_car\\_06\\_cat'\n",
       "\\item 'ps\\_car\\_07\\_cat'\n",
       "\\item 'ps\\_car\\_08\\_cat'\n",
       "\\item 'ps\\_car\\_09\\_cat'\n",
       "\\item 'ps\\_car\\_10\\_cat'\n",
       "\\item 'ps\\_car\\_11\\_cat'\n",
       "\\item 'ps\\_car\\_11'\n",
       "\\item 'ps\\_car\\_12'\n",
       "\\item 'ps\\_car\\_13'\n",
       "\\item 'ps\\_car\\_14'\n",
       "\\item 'ps\\_car\\_15'\n",
       "\\item 'ps\\_calc\\_01'\n",
       "\\item 'ps\\_calc\\_02'\n",
       "\\item 'ps\\_calc\\_03'\n",
       "\\item 'ps\\_calc\\_04'\n",
       "\\item 'ps\\_calc\\_05'\n",
       "\\item 'ps\\_calc\\_06'\n",
       "\\item 'ps\\_calc\\_07'\n",
       "\\item 'ps\\_calc\\_08'\n",
       "\\item 'ps\\_calc\\_09'\n",
       "\\item 'ps\\_calc\\_10'\n",
       "\\item 'ps\\_calc\\_11'\n",
       "\\item 'ps\\_calc\\_12'\n",
       "\\item 'ps\\_calc\\_13'\n",
       "\\item 'ps\\_calc\\_14'\n",
       "\\item 'ps\\_calc\\_15\\_bin'\n",
       "\\item 'ps\\_calc\\_16\\_bin'\n",
       "\\item 'ps\\_calc\\_17\\_bin'\n",
       "\\item 'ps\\_calc\\_18\\_bin'\n",
       "\\item 'ps\\_calc\\_19\\_bin'\n",
       "\\item 'ps\\_calc\\_20\\_bin'\n",
       "\\end{enumerate*}\n"
      ],
      "text/markdown": [
       "1. 'ps_ind_01'\n",
       "2. 'ps_ind_02_cat'\n",
       "3. 'ps_ind_03'\n",
       "4. 'ps_ind_04_cat'\n",
       "5. 'ps_ind_05_cat'\n",
       "6. 'ps_ind_06_bin'\n",
       "7. 'ps_ind_07_bin'\n",
       "8. 'ps_ind_08_bin'\n",
       "9. 'ps_ind_09_bin'\n",
       "10. 'ps_ind_10_bin'\n",
       "11. 'ps_ind_11_bin'\n",
       "12. 'ps_ind_12_bin'\n",
       "13. 'ps_ind_13_bin'\n",
       "14. 'ps_ind_14'\n",
       "15. 'ps_ind_15'\n",
       "16. 'ps_ind_16_bin'\n",
       "17. 'ps_ind_17_bin'\n",
       "18. 'ps_ind_18_bin'\n",
       "19. 'ps_reg_01'\n",
       "20. 'ps_reg_02'\n",
       "21. 'ps_reg_03'\n",
       "22. 'ps_car_01_cat'\n",
       "23. 'ps_car_02_cat'\n",
       "24. 'ps_car_03_cat'\n",
       "25. 'ps_car_04_cat'\n",
       "26. 'ps_car_05_cat'\n",
       "27. 'ps_car_06_cat'\n",
       "28. 'ps_car_07_cat'\n",
       "29. 'ps_car_08_cat'\n",
       "30. 'ps_car_09_cat'\n",
       "31. 'ps_car_10_cat'\n",
       "32. 'ps_car_11_cat'\n",
       "33. 'ps_car_11'\n",
       "34. 'ps_car_12'\n",
       "35. 'ps_car_13'\n",
       "36. 'ps_car_14'\n",
       "37. 'ps_car_15'\n",
       "38. 'ps_calc_01'\n",
       "39. 'ps_calc_02'\n",
       "40. 'ps_calc_03'\n",
       "41. 'ps_calc_04'\n",
       "42. 'ps_calc_05'\n",
       "43. 'ps_calc_06'\n",
       "44. 'ps_calc_07'\n",
       "45. 'ps_calc_08'\n",
       "46. 'ps_calc_09'\n",
       "47. 'ps_calc_10'\n",
       "48. 'ps_calc_11'\n",
       "49. 'ps_calc_12'\n",
       "50. 'ps_calc_13'\n",
       "51. 'ps_calc_14'\n",
       "52. 'ps_calc_15_bin'\n",
       "53. 'ps_calc_16_bin'\n",
       "54. 'ps_calc_17_bin'\n",
       "55. 'ps_calc_18_bin'\n",
       "56. 'ps_calc_19_bin'\n",
       "57. 'ps_calc_20_bin'\n",
       "\n",
       "\n"
      ],
      "text/plain": [
       " [1] \"ps_ind_01\"      \"ps_ind_02_cat\"  \"ps_ind_03\"      \"ps_ind_04_cat\" \n",
       " [5] \"ps_ind_05_cat\"  \"ps_ind_06_bin\"  \"ps_ind_07_bin\"  \"ps_ind_08_bin\" \n",
       " [9] \"ps_ind_09_bin\"  \"ps_ind_10_bin\"  \"ps_ind_11_bin\"  \"ps_ind_12_bin\" \n",
       "[13] \"ps_ind_13_bin\"  \"ps_ind_14\"      \"ps_ind_15\"      \"ps_ind_16_bin\" \n",
       "[17] \"ps_ind_17_bin\"  \"ps_ind_18_bin\"  \"ps_reg_01\"      \"ps_reg_02\"     \n",
       "[21] \"ps_reg_03\"      \"ps_car_01_cat\"  \"ps_car_02_cat\"  \"ps_car_03_cat\" \n",
       "[25] \"ps_car_04_cat\"  \"ps_car_05_cat\"  \"ps_car_06_cat\"  \"ps_car_07_cat\" \n",
       "[29] \"ps_car_08_cat\"  \"ps_car_09_cat\"  \"ps_car_10_cat\"  \"ps_car_11_cat\" \n",
       "[33] \"ps_car_11\"      \"ps_car_12\"      \"ps_car_13\"      \"ps_car_14\"     \n",
       "[37] \"ps_car_15\"      \"ps_calc_01\"     \"ps_calc_02\"     \"ps_calc_03\"    \n",
       "[41] \"ps_calc_04\"     \"ps_calc_05\"     \"ps_calc_06\"     \"ps_calc_07\"    \n",
       "[45] \"ps_calc_08\"     \"ps_calc_09\"     \"ps_calc_10\"     \"ps_calc_11\"    \n",
       "[49] \"ps_calc_12\"     \"ps_calc_13\"     \"ps_calc_14\"     \"ps_calc_15_bin\"\n",
       "[53] \"ps_calc_16_bin\" \"ps_calc_17_bin\" \"ps_calc_18_bin\" \"ps_calc_19_bin\"\n",
       "[57] \"ps_calc_20_bin\""
      ]
     },
     "metadata": {},
     "output_type": "display_data"
    },
    {
     "data": {
      "text/html": [
       "57"
      ],
      "text/latex": [
       "57"
      ],
      "text/markdown": [
       "57"
      ],
      "text/plain": [
       "[1] 57"
      ]
     },
     "metadata": {},
     "output_type": "display_data"
    }
   ],
   "source": [
    "col_names <- colnames(df_full)\n",
    "col_names\n",
    "length(col_names)"
   ]
  },
  {
   "cell_type": "code",
   "execution_count": 96,
   "metadata": {
    "collapsed": true
   },
   "outputs": [],
   "source": [
    "impute1 <- function(col, good_col) {\n",
    "    missing <- is.na(col)\n",
    "    num_missing <- sum(missing)\n",
    "    imputed <- col\n",
    "    imputed[missing] <- sample(good_col, num_missing, replace=TRUE)\n",
    "    return(imputed)\n",
    "}"
   ]
  },
  {
   "cell_type": "code",
   "execution_count": 97,
   "metadata": {},
   "outputs": [],
   "source": [
    "for (i in 2:length(col_names)){\n",
    "    good_col <- df_full[ , i]\n",
    "    col <- test[ , i]\n",
    "    new_col <- impute1(col, good_col)\n",
    "    new_df <- cbind(new_df, new_col)\n",
    "}"
   ]
  },
  {
   "cell_type": "code",
   "execution_count": 98,
   "metadata": {},
   "outputs": [
    {
     "data": {
      "text/html": [
       "<ol class=list-inline>\n",
       "\t<li>892816</li>\n",
       "\t<li>57</li>\n",
       "</ol>\n"
      ],
      "text/latex": [
       "\\begin{enumerate*}\n",
       "\\item 892816\n",
       "\\item 57\n",
       "\\end{enumerate*}\n"
      ],
      "text/markdown": [
       "1. 892816\n",
       "2. 57\n",
       "\n",
       "\n"
      ],
      "text/plain": [
       "[1] 892816     57"
      ]
     },
     "metadata": {},
     "output_type": "display_data"
    },
    {
     "data": {
      "text/html": [
       "<table>\n",
       "<thead><tr><th scope=col>new_df</th><th scope=col>new_col</th><th scope=col>new_col</th><th scope=col>new_col</th><th scope=col>new_col</th><th scope=col>new_col</th><th scope=col>new_col</th><th scope=col>new_col</th><th scope=col>new_col</th><th scope=col>new_col</th><th scope=col>...</th><th scope=col>new_col</th><th scope=col>new_col</th><th scope=col>new_col</th><th scope=col>new_col</th><th scope=col>new_col</th><th scope=col>new_col</th><th scope=col>new_col</th><th scope=col>new_col</th><th scope=col>new_col</th><th scope=col>new_col</th></tr></thead>\n",
       "<tbody>\n",
       "\t<tr><td>0  </td><td>1  </td><td>8  </td><td>1  </td><td>0  </td><td>0  </td><td>1  </td><td>0  </td><td>0  </td><td>0  </td><td>...</td><td>1  </td><td>1  </td><td>1  </td><td>12 </td><td>0  </td><td>1  </td><td>1  </td><td>0  </td><td>0  </td><td>1  </td></tr>\n",
       "\t<tr><td>4  </td><td>2  </td><td>5  </td><td>1  </td><td>0  </td><td>0  </td><td>0  </td><td>0  </td><td>1  </td><td>0  </td><td>...</td><td>2  </td><td>0  </td><td>3  </td><td>10 </td><td>0  </td><td>0  </td><td>1  </td><td>1  </td><td>0  </td><td>1  </td></tr>\n",
       "\t<tr><td>5  </td><td>1  </td><td>3  </td><td>0  </td><td>0  </td><td>0  </td><td>0  </td><td>0  </td><td>1  </td><td>0  </td><td>...</td><td>4  </td><td>0  </td><td>2  </td><td> 4 </td><td>0  </td><td>0  </td><td>0  </td><td>0  </td><td>0  </td><td>0  </td></tr>\n",
       "\t<tr><td>0  </td><td>1  </td><td>6  </td><td>0  </td><td>0  </td><td>1  </td><td>0  </td><td>0  </td><td>0  </td><td>0  </td><td>...</td><td>5  </td><td>1  </td><td>0  </td><td> 5 </td><td>1  </td><td>0  </td><td>1  </td><td>0  </td><td>0  </td><td>0  </td></tr>\n",
       "\t<tr><td>5  </td><td>1  </td><td>7  </td><td>0  </td><td>0  </td><td>0  </td><td>0  </td><td>0  </td><td>1  </td><td>0  </td><td>...</td><td>4  </td><td>0  </td><td>0  </td><td> 4 </td><td>0  </td><td>1  </td><td>1  </td><td>0  </td><td>0  </td><td>1  </td></tr>\n",
       "\t<tr><td>0  </td><td>1  </td><td>6  </td><td>0  </td><td>0  </td><td>1  </td><td>0  </td><td>0  </td><td>0  </td><td>0  </td><td>...</td><td>8  </td><td>1  </td><td>4  </td><td> 9 </td><td>1  </td><td>0  </td><td>1  </td><td>0  </td><td>1  </td><td>0  </td></tr>\n",
       "</tbody>\n",
       "</table>\n"
      ],
      "text/latex": [
       "\\begin{tabular}{lllllllllllllllllllllllllllllllllllllllllllllllllllllllll}\n",
       " new\\_df & new\\_col & new\\_col & new\\_col & new\\_col & new\\_col & new\\_col & new\\_col & new\\_col & new\\_col & ... & new\\_col & new\\_col & new\\_col & new\\_col & new\\_col & new\\_col & new\\_col & new\\_col & new\\_col & new\\_col\\\\\n",
       "\\hline\n",
       "\t 0   & 1   & 8   & 1   & 0   & 0   & 1   & 0   & 0   & 0   & ... & 1   & 1   & 1   & 12  & 0   & 1   & 1   & 0   & 0   & 1  \\\\\n",
       "\t 4   & 2   & 5   & 1   & 0   & 0   & 0   & 0   & 1   & 0   & ... & 2   & 0   & 3   & 10  & 0   & 0   & 1   & 1   & 0   & 1  \\\\\n",
       "\t 5   & 1   & 3   & 0   & 0   & 0   & 0   & 0   & 1   & 0   & ... & 4   & 0   & 2   &  4  & 0   & 0   & 0   & 0   & 0   & 0  \\\\\n",
       "\t 0   & 1   & 6   & 0   & 0   & 1   & 0   & 0   & 0   & 0   & ... & 5   & 1   & 0   &  5  & 1   & 0   & 1   & 0   & 0   & 0  \\\\\n",
       "\t 5   & 1   & 7   & 0   & 0   & 0   & 0   & 0   & 1   & 0   & ... & 4   & 0   & 0   &  4  & 0   & 1   & 1   & 0   & 0   & 1  \\\\\n",
       "\t 0   & 1   & 6   & 0   & 0   & 1   & 0   & 0   & 0   & 0   & ... & 8   & 1   & 4   &  9  & 1   & 0   & 1   & 0   & 1   & 0  \\\\\n",
       "\\end{tabular}\n"
      ],
      "text/markdown": [
       "\n",
       "new_df | new_col | new_col | new_col | new_col | new_col | new_col | new_col | new_col | new_col | ... | new_col | new_col | new_col | new_col | new_col | new_col | new_col | new_col | new_col | new_col | \n",
       "|---|---|---|---|---|---|\n",
       "| 0   | 1   | 8   | 1   | 0   | 0   | 1   | 0   | 0   | 0   | ... | 1   | 1   | 1   | 12  | 0   | 1   | 1   | 0   | 0   | 1   | \n",
       "| 4   | 2   | 5   | 1   | 0   | 0   | 0   | 0   | 1   | 0   | ... | 2   | 0   | 3   | 10  | 0   | 0   | 1   | 1   | 0   | 1   | \n",
       "| 5   | 1   | 3   | 0   | 0   | 0   | 0   | 0   | 1   | 0   | ... | 4   | 0   | 2   |  4  | 0   | 0   | 0   | 0   | 0   | 0   | \n",
       "| 0   | 1   | 6   | 0   | 0   | 1   | 0   | 0   | 0   | 0   | ... | 5   | 1   | 0   |  5  | 1   | 0   | 1   | 0   | 0   | 0   | \n",
       "| 5   | 1   | 7   | 0   | 0   | 0   | 0   | 0   | 1   | 0   | ... | 4   | 0   | 0   |  4  | 0   | 1   | 1   | 0   | 0   | 1   | \n",
       "| 0   | 1   | 6   | 0   | 0   | 1   | 0   | 0   | 0   | 0   | ... | 8   | 1   | 4   |  9  | 1   | 0   | 1   | 0   | 1   | 0   | \n",
       "\n",
       "\n"
      ],
      "text/plain": [
       "     new_df new_col new_col new_col new_col new_col new_col new_col new_col\n",
       "[1,] 0      1       8       1       0       0       1       0       0      \n",
       "[2,] 4      2       5       1       0       0       0       0       1      \n",
       "[3,] 5      1       3       0       0       0       0       0       1      \n",
       "[4,] 0      1       6       0       0       1       0       0       0      \n",
       "[5,] 5      1       7       0       0       0       0       0       1      \n",
       "[6,] 0      1       6       0       0       1       0       0       0      \n",
       "     new_col ... new_col new_col new_col new_col new_col new_col new_col\n",
       "[1,] 0       ... 1       1       1       12      0       1       1      \n",
       "[2,] 0       ... 2       0       3       10      0       0       1      \n",
       "[3,] 0       ... 4       0       2        4      0       0       0      \n",
       "[4,] 0       ... 5       1       0        5      1       0       1      \n",
       "[5,] 0       ... 4       0       0        4      0       1       1      \n",
       "[6,] 0       ... 8       1       4        9      1       0       1      \n",
       "     new_col new_col new_col\n",
       "[1,] 0       0       1      \n",
       "[2,] 1       0       1      \n",
       "[3,] 0       0       0      \n",
       "[4,] 0       0       0      \n",
       "[5,] 0       0       1      \n",
       "[6,] 0       1       0      "
      ]
     },
     "metadata": {},
     "output_type": "display_data"
    }
   ],
   "source": [
    "dim(new_df)\n",
    "head(new_df)"
   ]
  },
  {
   "cell_type": "code",
   "execution_count": 104,
   "metadata": {},
   "outputs": [],
   "source": [
    "df_done <- as.data.frame(new_df)\n",
    "colnames(df_done) <- col_names\n",
    "id <- ids\n",
    "df <- cbind(id, df_done)"
   ]
  },
  {
   "cell_type": "code",
   "execution_count": 108,
   "metadata": {},
   "outputs": [
    {
     "data": {
      "text/html": [
       "<table>\n",
       "<thead><tr><th scope=col>id</th><th scope=col>ps_ind_01</th><th scope=col>ps_ind_02_cat</th><th scope=col>ps_ind_03</th><th scope=col>ps_ind_04_cat</th><th scope=col>ps_ind_05_cat</th><th scope=col>ps_ind_06_bin</th><th scope=col>ps_ind_07_bin</th><th scope=col>ps_ind_08_bin</th><th scope=col>ps_ind_09_bin</th><th scope=col>...</th><th scope=col>ps_calc_11</th><th scope=col>ps_calc_12</th><th scope=col>ps_calc_13</th><th scope=col>ps_calc_14</th><th scope=col>ps_calc_15_bin</th><th scope=col>ps_calc_16_bin</th><th scope=col>ps_calc_17_bin</th><th scope=col>ps_calc_18_bin</th><th scope=col>ps_calc_19_bin</th><th scope=col>ps_calc_20_bin</th></tr></thead>\n",
       "<tbody>\n",
       "\t<tr><td>0  </td><td>0  </td><td>1  </td><td>8  </td><td>1  </td><td>0  </td><td>0  </td><td>1  </td><td>0  </td><td>0  </td><td>...</td><td>1  </td><td>1  </td><td>1  </td><td>12 </td><td>0  </td><td>1  </td><td>1  </td><td>0  </td><td>0  </td><td>1  </td></tr>\n",
       "\t<tr><td>1  </td><td>4  </td><td>2  </td><td>5  </td><td>1  </td><td>0  </td><td>0  </td><td>0  </td><td>0  </td><td>1  </td><td>...</td><td>2  </td><td>0  </td><td>3  </td><td>10 </td><td>0  </td><td>0  </td><td>1  </td><td>1  </td><td>0  </td><td>1  </td></tr>\n",
       "\t<tr><td>2  </td><td>5  </td><td>1  </td><td>3  </td><td>0  </td><td>0  </td><td>0  </td><td>0  </td><td>0  </td><td>1  </td><td>...</td><td>4  </td><td>0  </td><td>2  </td><td> 4 </td><td>0  </td><td>0  </td><td>0  </td><td>0  </td><td>0  </td><td>0  </td></tr>\n",
       "\t<tr><td>3  </td><td>0  </td><td>1  </td><td>6  </td><td>0  </td><td>0  </td><td>1  </td><td>0  </td><td>0  </td><td>0  </td><td>...</td><td>5  </td><td>1  </td><td>0  </td><td> 5 </td><td>1  </td><td>0  </td><td>1  </td><td>0  </td><td>0  </td><td>0  </td></tr>\n",
       "\t<tr><td>4  </td><td>5  </td><td>1  </td><td>7  </td><td>0  </td><td>0  </td><td>0  </td><td>0  </td><td>0  </td><td>1  </td><td>...</td><td>4  </td><td>0  </td><td>0  </td><td> 4 </td><td>0  </td><td>1  </td><td>1  </td><td>0  </td><td>0  </td><td>1  </td></tr>\n",
       "\t<tr><td>5  </td><td>0  </td><td>1  </td><td>6  </td><td>0  </td><td>0  </td><td>1  </td><td>0  </td><td>0  </td><td>0  </td><td>...</td><td>8  </td><td>1  </td><td>4  </td><td> 9 </td><td>1  </td><td>0  </td><td>1  </td><td>0  </td><td>1  </td><td>0  </td></tr>\n",
       "</tbody>\n",
       "</table>\n"
      ],
      "text/latex": [
       "\\begin{tabular}{r|llllllllllllllllllllllllllllllllllllllllllllllllllllllllll}\n",
       " id & ps\\_ind\\_01 & ps\\_ind\\_02\\_cat & ps\\_ind\\_03 & ps\\_ind\\_04\\_cat & ps\\_ind\\_05\\_cat & ps\\_ind\\_06\\_bin & ps\\_ind\\_07\\_bin & ps\\_ind\\_08\\_bin & ps\\_ind\\_09\\_bin & ... & ps\\_calc\\_11 & ps\\_calc\\_12 & ps\\_calc\\_13 & ps\\_calc\\_14 & ps\\_calc\\_15\\_bin & ps\\_calc\\_16\\_bin & ps\\_calc\\_17\\_bin & ps\\_calc\\_18\\_bin & ps\\_calc\\_19\\_bin & ps\\_calc\\_20\\_bin\\\\\n",
       "\\hline\n",
       "\t 0   & 0   & 1   & 8   & 1   & 0   & 0   & 1   & 0   & 0   & ... & 1   & 1   & 1   & 12  & 0   & 1   & 1   & 0   & 0   & 1  \\\\\n",
       "\t 1   & 4   & 2   & 5   & 1   & 0   & 0   & 0   & 0   & 1   & ... & 2   & 0   & 3   & 10  & 0   & 0   & 1   & 1   & 0   & 1  \\\\\n",
       "\t 2   & 5   & 1   & 3   & 0   & 0   & 0   & 0   & 0   & 1   & ... & 4   & 0   & 2   &  4  & 0   & 0   & 0   & 0   & 0   & 0  \\\\\n",
       "\t 3   & 0   & 1   & 6   & 0   & 0   & 1   & 0   & 0   & 0   & ... & 5   & 1   & 0   &  5  & 1   & 0   & 1   & 0   & 0   & 0  \\\\\n",
       "\t 4   & 5   & 1   & 7   & 0   & 0   & 0   & 0   & 0   & 1   & ... & 4   & 0   & 0   &  4  & 0   & 1   & 1   & 0   & 0   & 1  \\\\\n",
       "\t 5   & 0   & 1   & 6   & 0   & 0   & 1   & 0   & 0   & 0   & ... & 8   & 1   & 4   &  9  & 1   & 0   & 1   & 0   & 1   & 0  \\\\\n",
       "\\end{tabular}\n"
      ],
      "text/markdown": [
       "\n",
       "id | ps_ind_01 | ps_ind_02_cat | ps_ind_03 | ps_ind_04_cat | ps_ind_05_cat | ps_ind_06_bin | ps_ind_07_bin | ps_ind_08_bin | ps_ind_09_bin | ... | ps_calc_11 | ps_calc_12 | ps_calc_13 | ps_calc_14 | ps_calc_15_bin | ps_calc_16_bin | ps_calc_17_bin | ps_calc_18_bin | ps_calc_19_bin | ps_calc_20_bin | \n",
       "|---|---|---|---|---|---|\n",
       "| 0   | 0   | 1   | 8   | 1   | 0   | 0   | 1   | 0   | 0   | ... | 1   | 1   | 1   | 12  | 0   | 1   | 1   | 0   | 0   | 1   | \n",
       "| 1   | 4   | 2   | 5   | 1   | 0   | 0   | 0   | 0   | 1   | ... | 2   | 0   | 3   | 10  | 0   | 0   | 1   | 1   | 0   | 1   | \n",
       "| 2   | 5   | 1   | 3   | 0   | 0   | 0   | 0   | 0   | 1   | ... | 4   | 0   | 2   |  4  | 0   | 0   | 0   | 0   | 0   | 0   | \n",
       "| 3   | 0   | 1   | 6   | 0   | 0   | 1   | 0   | 0   | 0   | ... | 5   | 1   | 0   |  5  | 1   | 0   | 1   | 0   | 0   | 0   | \n",
       "| 4   | 5   | 1   | 7   | 0   | 0   | 0   | 0   | 0   | 1   | ... | 4   | 0   | 0   |  4  | 0   | 1   | 1   | 0   | 0   | 1   | \n",
       "| 5   | 0   | 1   | 6   | 0   | 0   | 1   | 0   | 0   | 0   | ... | 8   | 1   | 4   |  9  | 1   | 0   | 1   | 0   | 1   | 0   | \n",
       "\n",
       "\n"
      ],
      "text/plain": [
       "  id ps_ind_01 ps_ind_02_cat ps_ind_03 ps_ind_04_cat ps_ind_05_cat\n",
       "1 0  0         1             8         1             0            \n",
       "2 1  4         2             5         1             0            \n",
       "3 2  5         1             3         0             0            \n",
       "4 3  0         1             6         0             0            \n",
       "5 4  5         1             7         0             0            \n",
       "6 5  0         1             6         0             0            \n",
       "  ps_ind_06_bin ps_ind_07_bin ps_ind_08_bin ps_ind_09_bin ... ps_calc_11\n",
       "1 0             1             0             0             ... 1         \n",
       "2 0             0             0             1             ... 2         \n",
       "3 0             0             0             1             ... 4         \n",
       "4 1             0             0             0             ... 5         \n",
       "5 0             0             0             1             ... 4         \n",
       "6 1             0             0             0             ... 8         \n",
       "  ps_calc_12 ps_calc_13 ps_calc_14 ps_calc_15_bin ps_calc_16_bin ps_calc_17_bin\n",
       "1 1          1          12         0              1              1             \n",
       "2 0          3          10         0              0              1             \n",
       "3 0          2           4         0              0              0             \n",
       "4 1          0           5         1              0              1             \n",
       "5 0          0           4         0              1              1             \n",
       "6 1          4           9         1              0              1             \n",
       "  ps_calc_18_bin ps_calc_19_bin ps_calc_20_bin\n",
       "1 0              0              1             \n",
       "2 1              0              1             \n",
       "3 0              0              0             \n",
       "4 0              0              0             \n",
       "5 0              0              1             \n",
       "6 0              1              0             "
      ]
     },
     "metadata": {},
     "output_type": "display_data"
    },
    {
     "data": {
      "text/html": [
       "<table>\n",
       "<thead><tr><th scope=col>id</th><th scope=col>ps_ind_01</th><th scope=col>ps_ind_02_cat</th><th scope=col>ps_ind_03</th><th scope=col>ps_ind_04_cat</th><th scope=col>ps_ind_05_cat</th><th scope=col>ps_ind_06_bin</th><th scope=col>ps_ind_07_bin</th><th scope=col>ps_ind_08_bin</th><th scope=col>ps_ind_09_bin</th><th scope=col>...</th><th scope=col>ps_calc_11</th><th scope=col>ps_calc_12</th><th scope=col>ps_calc_13</th><th scope=col>ps_calc_14</th><th scope=col>ps_calc_15_bin</th><th scope=col>ps_calc_16_bin</th><th scope=col>ps_calc_17_bin</th><th scope=col>ps_calc_18_bin</th><th scope=col>ps_calc_19_bin</th><th scope=col>ps_calc_20_bin</th></tr></thead>\n",
       "<tbody>\n",
       "\t<tr><td>0  </td><td>0  </td><td>1  </td><td>8  </td><td>1  </td><td>0  </td><td>0  </td><td>1  </td><td>0  </td><td>0  </td><td>...</td><td>1  </td><td>1  </td><td>1  </td><td>12 </td><td>0  </td><td>1  </td><td>1  </td><td>0  </td><td>0  </td><td>1  </td></tr>\n",
       "\t<tr><td>1  </td><td>4  </td><td>2  </td><td>5  </td><td>1  </td><td>0  </td><td>0  </td><td>0  </td><td>0  </td><td>1  </td><td>...</td><td>2  </td><td>0  </td><td>3  </td><td>10 </td><td>0  </td><td>0  </td><td>1  </td><td>1  </td><td>0  </td><td>1  </td></tr>\n",
       "\t<tr><td>2  </td><td>5  </td><td>1  </td><td>3  </td><td>0  </td><td>0  </td><td>0  </td><td>0  </td><td>0  </td><td>1  </td><td>...</td><td>4  </td><td>0  </td><td>2  </td><td> 4 </td><td>0  </td><td>0  </td><td>0  </td><td>0  </td><td>0  </td><td>0  </td></tr>\n",
       "\t<tr><td>3  </td><td>0  </td><td>1  </td><td>6  </td><td>0  </td><td>0  </td><td>1  </td><td>0  </td><td>0  </td><td>0  </td><td>...</td><td>5  </td><td>1  </td><td>0  </td><td> 5 </td><td>1  </td><td>0  </td><td>1  </td><td>0  </td><td>0  </td><td>0  </td></tr>\n",
       "\t<tr><td>4  </td><td>5  </td><td>1  </td><td>7  </td><td>0  </td><td>0  </td><td>0  </td><td>0  </td><td>0  </td><td>1  </td><td>...</td><td>4  </td><td>0  </td><td>0  </td><td> 4 </td><td>0  </td><td>1  </td><td>1  </td><td>0  </td><td>0  </td><td>1  </td></tr>\n",
       "\t<tr><td>5  </td><td>0  </td><td>1  </td><td>6  </td><td>0  </td><td>0  </td><td>1  </td><td>0  </td><td>0  </td><td>0  </td><td>...</td><td>8  </td><td>1  </td><td>4  </td><td> 9 </td><td>1  </td><td>0  </td><td>1  </td><td>0  </td><td>1  </td><td>0  </td></tr>\n",
       "</tbody>\n",
       "</table>\n"
      ],
      "text/latex": [
       "\\begin{tabular}{r|llllllllllllllllllllllllllllllllllllllllllllllllllllllllll}\n",
       " id & ps\\_ind\\_01 & ps\\_ind\\_02\\_cat & ps\\_ind\\_03 & ps\\_ind\\_04\\_cat & ps\\_ind\\_05\\_cat & ps\\_ind\\_06\\_bin & ps\\_ind\\_07\\_bin & ps\\_ind\\_08\\_bin & ps\\_ind\\_09\\_bin & ... & ps\\_calc\\_11 & ps\\_calc\\_12 & ps\\_calc\\_13 & ps\\_calc\\_14 & ps\\_calc\\_15\\_bin & ps\\_calc\\_16\\_bin & ps\\_calc\\_17\\_bin & ps\\_calc\\_18\\_bin & ps\\_calc\\_19\\_bin & ps\\_calc\\_20\\_bin\\\\\n",
       "\\hline\n",
       "\t 0   & 0   & 1   & 8   & 1   & 0   & 0   & 1   & 0   & 0   & ... & 1   & 1   & 1   & 12  & 0   & 1   & 1   & 0   & 0   & 1  \\\\\n",
       "\t 1   & 4   & 2   & 5   & 1   & 0   & 0   & 0   & 0   & 1   & ... & 2   & 0   & 3   & 10  & 0   & 0   & 1   & 1   & 0   & 1  \\\\\n",
       "\t 2   & 5   & 1   & 3   & 0   & 0   & 0   & 0   & 0   & 1   & ... & 4   & 0   & 2   &  4  & 0   & 0   & 0   & 0   & 0   & 0  \\\\\n",
       "\t 3   & 0   & 1   & 6   & 0   & 0   & 1   & 0   & 0   & 0   & ... & 5   & 1   & 0   &  5  & 1   & 0   & 1   & 0   & 0   & 0  \\\\\n",
       "\t 4   & 5   & 1   & 7   & 0   & 0   & 0   & 0   & 0   & 1   & ... & 4   & 0   & 0   &  4  & 0   & 1   & 1   & 0   & 0   & 1  \\\\\n",
       "\t 5   & 0   & 1   & 6   & 0   & 0   & 1   & 0   & 0   & 0   & ... & 8   & 1   & 4   &  9  & 1   & 0   & 1   & 0   & 1   & 0  \\\\\n",
       "\\end{tabular}\n"
      ],
      "text/markdown": [
       "\n",
       "id | ps_ind_01 | ps_ind_02_cat | ps_ind_03 | ps_ind_04_cat | ps_ind_05_cat | ps_ind_06_bin | ps_ind_07_bin | ps_ind_08_bin | ps_ind_09_bin | ... | ps_calc_11 | ps_calc_12 | ps_calc_13 | ps_calc_14 | ps_calc_15_bin | ps_calc_16_bin | ps_calc_17_bin | ps_calc_18_bin | ps_calc_19_bin | ps_calc_20_bin | \n",
       "|---|---|---|---|---|---|\n",
       "| 0   | 0   | 1   | 8   | 1   | 0   | 0   | 1   | 0   | 0   | ... | 1   | 1   | 1   | 12  | 0   | 1   | 1   | 0   | 0   | 1   | \n",
       "| 1   | 4   | 2   | 5   | 1   | 0   | 0   | 0   | 0   | 1   | ... | 2   | 0   | 3   | 10  | 0   | 0   | 1   | 1   | 0   | 1   | \n",
       "| 2   | 5   | 1   | 3   | 0   | 0   | 0   | 0   | 0   | 1   | ... | 4   | 0   | 2   |  4  | 0   | 0   | 0   | 0   | 0   | 0   | \n",
       "| 3   | 0   | 1   | 6   | 0   | 0   | 1   | 0   | 0   | 0   | ... | 5   | 1   | 0   |  5  | 1   | 0   | 1   | 0   | 0   | 0   | \n",
       "| 4   | 5   | 1   | 7   | 0   | 0   | 0   | 0   | 0   | 1   | ... | 4   | 0   | 0   |  4  | 0   | 1   | 1   | 0   | 0   | 1   | \n",
       "| 5   | 0   | 1   | 6   | 0   | 0   | 1   | 0   | 0   | 0   | ... | 8   | 1   | 4   |  9  | 1   | 0   | 1   | 0   | 1   | 0   | \n",
       "\n",
       "\n"
      ],
      "text/plain": [
       "  id ps_ind_01 ps_ind_02_cat ps_ind_03 ps_ind_04_cat ps_ind_05_cat\n",
       "1 0  0         1             8         1             0            \n",
       "2 1  4         2             5         1             0            \n",
       "3 2  5         1             3         0             0            \n",
       "4 3  0         1             6         0             0            \n",
       "5 4  5         1             7         0             0            \n",
       "6 5  0         1             6         0             0            \n",
       "  ps_ind_06_bin ps_ind_07_bin ps_ind_08_bin ps_ind_09_bin ... ps_calc_11\n",
       "1 0             1             0             0             ... 1         \n",
       "2 0             0             0             1             ... 2         \n",
       "3 0             0             0             1             ... 4         \n",
       "4 1             0             0             0             ... 5         \n",
       "5 0             0             0             1             ... 4         \n",
       "6 1             0             0             0             ... 8         \n",
       "  ps_calc_12 ps_calc_13 ps_calc_14 ps_calc_15_bin ps_calc_16_bin ps_calc_17_bin\n",
       "1 1          1          12         0              1              1             \n",
       "2 0          3          10         0              0              1             \n",
       "3 0          2           4         0              0              0             \n",
       "4 1          0           5         1              0              1             \n",
       "5 0          0           4         0              1              1             \n",
       "6 1          4           9         1              0              1             \n",
       "  ps_calc_18_bin ps_calc_19_bin ps_calc_20_bin\n",
       "1 0              0              1             \n",
       "2 1              0              1             \n",
       "3 0              0              0             \n",
       "4 0              0              0             \n",
       "5 0              0              1             \n",
       "6 0              1              0             "
      ]
     },
     "metadata": {},
     "output_type": "display_data"
    }
   ],
   "source": [
    "head(df)\n",
    "head(raw_test)"
   ]
  },
  {
   "cell_type": "code",
   "execution_count": 109,
   "metadata": {},
   "outputs": [
    {
     "data": {
      "text/html": [
       "FALSE"
      ],
      "text/latex": [
       "FALSE"
      ],
      "text/markdown": [
       "FALSE"
      ],
      "text/plain": [
       "[1] FALSE"
      ]
     },
     "metadata": {},
     "output_type": "display_data"
    },
    {
     "data": {
      "text/html": [
       "FALSE"
      ],
      "text/latex": [
       "FALSE"
      ],
      "text/markdown": [
       "FALSE"
      ],
      "text/plain": [
       "[1] FALSE"
      ]
     },
     "metadata": {},
     "output_type": "display_data"
    }
   ],
   "source": [
    "any(df == -1)\n",
    "any(is.na(df))"
   ]
  },
  {
   "cell_type": "code",
   "execution_count": 110,
   "metadata": {
    "collapsed": true
   },
   "outputs": [],
   "source": [
    "write.csv(df, file=\"C:/dev/safe_driver_kaggle/data/imputed_test.csv\", row.names=FALSE)"
   ]
  },
  {
   "cell_type": "code",
   "execution_count": 112,
   "metadata": {},
   "outputs": [
    {
     "data": {
      "text/html": [
       "<table>\n",
       "<thead><tr><th scope=col>id</th><th scope=col>ps_ind_01</th><th scope=col>ps_ind_02_cat</th><th scope=col>ps_ind_03</th><th scope=col>ps_ind_04_cat</th><th scope=col>ps_ind_05_cat</th><th scope=col>ps_ind_06_bin</th><th scope=col>ps_ind_07_bin</th><th scope=col>ps_ind_08_bin</th><th scope=col>ps_ind_09_bin</th><th scope=col>...</th><th scope=col>ps_calc_11</th><th scope=col>ps_calc_12</th><th scope=col>ps_calc_13</th><th scope=col>ps_calc_14</th><th scope=col>ps_calc_15_bin</th><th scope=col>ps_calc_16_bin</th><th scope=col>ps_calc_17_bin</th><th scope=col>ps_calc_18_bin</th><th scope=col>ps_calc_19_bin</th><th scope=col>ps_calc_20_bin</th></tr></thead>\n",
       "<tbody>\n",
       "\t<tr><td>0  </td><td>0  </td><td>1  </td><td>8  </td><td>1  </td><td>0  </td><td>0  </td><td>1  </td><td>0  </td><td>0  </td><td>...</td><td>1  </td><td>1  </td><td>1  </td><td>12 </td><td>0  </td><td>1  </td><td>1  </td><td>0  </td><td>0  </td><td>1  </td></tr>\n",
       "\t<tr><td>1  </td><td>4  </td><td>2  </td><td>5  </td><td>1  </td><td>0  </td><td>0  </td><td>0  </td><td>0  </td><td>1  </td><td>...</td><td>2  </td><td>0  </td><td>3  </td><td>10 </td><td>0  </td><td>0  </td><td>1  </td><td>1  </td><td>0  </td><td>1  </td></tr>\n",
       "\t<tr><td>2  </td><td>5  </td><td>1  </td><td>3  </td><td>0  </td><td>0  </td><td>0  </td><td>0  </td><td>0  </td><td>1  </td><td>...</td><td>4  </td><td>0  </td><td>2  </td><td> 4 </td><td>0  </td><td>0  </td><td>0  </td><td>0  </td><td>0  </td><td>0  </td></tr>\n",
       "\t<tr><td>3  </td><td>0  </td><td>1  </td><td>6  </td><td>0  </td><td>0  </td><td>1  </td><td>0  </td><td>0  </td><td>0  </td><td>...</td><td>5  </td><td>1  </td><td>0  </td><td> 5 </td><td>1  </td><td>0  </td><td>1  </td><td>0  </td><td>0  </td><td>0  </td></tr>\n",
       "\t<tr><td>4  </td><td>5  </td><td>1  </td><td>7  </td><td>0  </td><td>0  </td><td>0  </td><td>0  </td><td>0  </td><td>1  </td><td>...</td><td>4  </td><td>0  </td><td>0  </td><td> 4 </td><td>0  </td><td>1  </td><td>1  </td><td>0  </td><td>0  </td><td>1  </td></tr>\n",
       "\t<tr><td>5  </td><td>0  </td><td>1  </td><td>6  </td><td>0  </td><td>0  </td><td>1  </td><td>0  </td><td>0  </td><td>0  </td><td>...</td><td>8  </td><td>1  </td><td>4  </td><td> 9 </td><td>1  </td><td>0  </td><td>1  </td><td>0  </td><td>1  </td><td>0  </td></tr>\n",
       "</tbody>\n",
       "</table>\n"
      ],
      "text/latex": [
       "\\begin{tabular}{r|llllllllllllllllllllllllllllllllllllllllllllllllllllllllll}\n",
       " id & ps\\_ind\\_01 & ps\\_ind\\_02\\_cat & ps\\_ind\\_03 & ps\\_ind\\_04\\_cat & ps\\_ind\\_05\\_cat & ps\\_ind\\_06\\_bin & ps\\_ind\\_07\\_bin & ps\\_ind\\_08\\_bin & ps\\_ind\\_09\\_bin & ... & ps\\_calc\\_11 & ps\\_calc\\_12 & ps\\_calc\\_13 & ps\\_calc\\_14 & ps\\_calc\\_15\\_bin & ps\\_calc\\_16\\_bin & ps\\_calc\\_17\\_bin & ps\\_calc\\_18\\_bin & ps\\_calc\\_19\\_bin & ps\\_calc\\_20\\_bin\\\\\n",
       "\\hline\n",
       "\t 0   & 0   & 1   & 8   & 1   & 0   & 0   & 1   & 0   & 0   & ... & 1   & 1   & 1   & 12  & 0   & 1   & 1   & 0   & 0   & 1  \\\\\n",
       "\t 1   & 4   & 2   & 5   & 1   & 0   & 0   & 0   & 0   & 1   & ... & 2   & 0   & 3   & 10  & 0   & 0   & 1   & 1   & 0   & 1  \\\\\n",
       "\t 2   & 5   & 1   & 3   & 0   & 0   & 0   & 0   & 0   & 1   & ... & 4   & 0   & 2   &  4  & 0   & 0   & 0   & 0   & 0   & 0  \\\\\n",
       "\t 3   & 0   & 1   & 6   & 0   & 0   & 1   & 0   & 0   & 0   & ... & 5   & 1   & 0   &  5  & 1   & 0   & 1   & 0   & 0   & 0  \\\\\n",
       "\t 4   & 5   & 1   & 7   & 0   & 0   & 0   & 0   & 0   & 1   & ... & 4   & 0   & 0   &  4  & 0   & 1   & 1   & 0   & 0   & 1  \\\\\n",
       "\t 5   & 0   & 1   & 6   & 0   & 0   & 1   & 0   & 0   & 0   & ... & 8   & 1   & 4   &  9  & 1   & 0   & 1   & 0   & 1   & 0  \\\\\n",
       "\\end{tabular}\n"
      ],
      "text/markdown": [
       "\n",
       "id | ps_ind_01 | ps_ind_02_cat | ps_ind_03 | ps_ind_04_cat | ps_ind_05_cat | ps_ind_06_bin | ps_ind_07_bin | ps_ind_08_bin | ps_ind_09_bin | ... | ps_calc_11 | ps_calc_12 | ps_calc_13 | ps_calc_14 | ps_calc_15_bin | ps_calc_16_bin | ps_calc_17_bin | ps_calc_18_bin | ps_calc_19_bin | ps_calc_20_bin | \n",
       "|---|---|---|---|---|---|\n",
       "| 0   | 0   | 1   | 8   | 1   | 0   | 0   | 1   | 0   | 0   | ... | 1   | 1   | 1   | 12  | 0   | 1   | 1   | 0   | 0   | 1   | \n",
       "| 1   | 4   | 2   | 5   | 1   | 0   | 0   | 0   | 0   | 1   | ... | 2   | 0   | 3   | 10  | 0   | 0   | 1   | 1   | 0   | 1   | \n",
       "| 2   | 5   | 1   | 3   | 0   | 0   | 0   | 0   | 0   | 1   | ... | 4   | 0   | 2   |  4  | 0   | 0   | 0   | 0   | 0   | 0   | \n",
       "| 3   | 0   | 1   | 6   | 0   | 0   | 1   | 0   | 0   | 0   | ... | 5   | 1   | 0   |  5  | 1   | 0   | 1   | 0   | 0   | 0   | \n",
       "| 4   | 5   | 1   | 7   | 0   | 0   | 0   | 0   | 0   | 1   | ... | 4   | 0   | 0   |  4  | 0   | 1   | 1   | 0   | 0   | 1   | \n",
       "| 5   | 0   | 1   | 6   | 0   | 0   | 1   | 0   | 0   | 0   | ... | 8   | 1   | 4   |  9  | 1   | 0   | 1   | 0   | 1   | 0   | \n",
       "\n",
       "\n"
      ],
      "text/plain": [
       "  id ps_ind_01 ps_ind_02_cat ps_ind_03 ps_ind_04_cat ps_ind_05_cat\n",
       "1 0  0         1             8         1             0            \n",
       "2 1  4         2             5         1             0            \n",
       "3 2  5         1             3         0             0            \n",
       "4 3  0         1             6         0             0            \n",
       "5 4  5         1             7         0             0            \n",
       "6 5  0         1             6         0             0            \n",
       "  ps_ind_06_bin ps_ind_07_bin ps_ind_08_bin ps_ind_09_bin ... ps_calc_11\n",
       "1 0             1             0             0             ... 1         \n",
       "2 0             0             0             1             ... 2         \n",
       "3 0             0             0             1             ... 4         \n",
       "4 1             0             0             0             ... 5         \n",
       "5 0             0             0             1             ... 4         \n",
       "6 1             0             0             0             ... 8         \n",
       "  ps_calc_12 ps_calc_13 ps_calc_14 ps_calc_15_bin ps_calc_16_bin ps_calc_17_bin\n",
       "1 1          1          12         0              1              1             \n",
       "2 0          3          10         0              0              1             \n",
       "3 0          2           4         0              0              0             \n",
       "4 1          0           5         1              0              1             \n",
       "5 0          0           4         0              1              1             \n",
       "6 1          4           9         1              0              1             \n",
       "  ps_calc_18_bin ps_calc_19_bin ps_calc_20_bin\n",
       "1 0              0              1             \n",
       "2 1              0              1             \n",
       "3 0              0              0             \n",
       "4 0              0              0             \n",
       "5 0              0              1             \n",
       "6 0              1              0             "
      ]
     },
     "metadata": {},
     "output_type": "display_data"
    },
    {
     "data": {
      "text/html": [
       "<ol class=list-inline>\n",
       "\t<li>892816</li>\n",
       "\t<li>58</li>\n",
       "</ol>\n"
      ],
      "text/latex": [
       "\\begin{enumerate*}\n",
       "\\item 892816\n",
       "\\item 58\n",
       "\\end{enumerate*}\n"
      ],
      "text/markdown": [
       "1. 892816\n",
       "2. 58\n",
       "\n",
       "\n"
      ],
      "text/plain": [
       "[1] 892816     58"
      ]
     },
     "metadata": {},
     "output_type": "display_data"
    },
    {
     "data": {
      "text/html": [
       "<ol class=list-inline>\n",
       "\t<li>892816</li>\n",
       "\t<li>58</li>\n",
       "</ol>\n"
      ],
      "text/latex": [
       "\\begin{enumerate*}\n",
       "\\item 892816\n",
       "\\item 58\n",
       "\\end{enumerate*}\n"
      ],
      "text/markdown": [
       "1. 892816\n",
       "2. 58\n",
       "\n",
       "\n"
      ],
      "text/plain": [
       "[1] 892816     58"
      ]
     },
     "metadata": {},
     "output_type": "display_data"
    }
   ],
   "source": [
    "head(df)\n",
    "dim(df)\n",
    "dim(raw_test)"
   ]
  },
  {
   "cell_type": "code",
   "execution_count": null,
   "metadata": {
    "collapsed": true
   },
   "outputs": [],
   "source": []
  }
 ],
 "metadata": {
  "kernelspec": {
   "display_name": "R",
   "language": "R",
   "name": "ir"
  },
  "language_info": {
   "codemirror_mode": "r",
   "file_extension": ".r",
   "mimetype": "text/x-r-source",
   "name": "R",
   "pygments_lexer": "r",
   "version": "3.4.1"
  }
 },
 "nbformat": 4,
 "nbformat_minor": 2
}
