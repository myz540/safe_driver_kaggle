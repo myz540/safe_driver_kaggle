{
 "cells": [
  {
   "cell_type": "markdown",
   "metadata": {},
   "source": [
    "## Using R, impute missing values by randomly sampling from a distribution of known values, split by target == 0 and target == 1"
   ]
  },
  {
   "cell_type": "code",
   "execution_count": 1,
   "metadata": {
    "collapsed": true
   },
   "outputs": [],
   "source": [
    "train <- read.csv(\"../data/train.csv\")"
   ]
  },
  {
   "cell_type": "code",
   "execution_count": 2,
   "metadata": {},
   "outputs": [
    {
     "data": {
      "text/html": [
       "<table>\n",
       "<thead><tr><th scope=col>id</th><th scope=col>target</th><th scope=col>ps_ind_01</th><th scope=col>ps_ind_02_cat</th><th scope=col>ps_ind_03</th><th scope=col>ps_ind_04_cat</th><th scope=col>ps_ind_05_cat</th><th scope=col>ps_ind_06_bin</th><th scope=col>ps_ind_07_bin</th><th scope=col>ps_ind_08_bin</th><th scope=col>...</th><th scope=col>ps_calc_11</th><th scope=col>ps_calc_12</th><th scope=col>ps_calc_13</th><th scope=col>ps_calc_14</th><th scope=col>ps_calc_15_bin</th><th scope=col>ps_calc_16_bin</th><th scope=col>ps_calc_17_bin</th><th scope=col>ps_calc_18_bin</th><th scope=col>ps_calc_19_bin</th><th scope=col>ps_calc_20_bin</th></tr></thead>\n",
       "<tbody>\n",
       "\t<tr><td> 7 </td><td>0  </td><td>2  </td><td>2  </td><td>5  </td><td>1  </td><td>0  </td><td>0  </td><td>1  </td><td>0  </td><td>...</td><td>9  </td><td>1  </td><td>5  </td><td>8  </td><td>0  </td><td>1  </td><td>1  </td><td>0  </td><td>0  </td><td>1  </td></tr>\n",
       "\t<tr><td> 9 </td><td>0  </td><td>1  </td><td>1  </td><td>7  </td><td>0  </td><td>0  </td><td>0  </td><td>0  </td><td>1  </td><td>...</td><td>3  </td><td>1  </td><td>1  </td><td>9  </td><td>0  </td><td>1  </td><td>1  </td><td>0  </td><td>1  </td><td>0  </td></tr>\n",
       "\t<tr><td>13 </td><td>0  </td><td>5  </td><td>4  </td><td>9  </td><td>1  </td><td>0  </td><td>0  </td><td>0  </td><td>1  </td><td>...</td><td>4  </td><td>2  </td><td>7  </td><td>7  </td><td>0  </td><td>1  </td><td>1  </td><td>0  </td><td>1  </td><td>0  </td></tr>\n",
       "\t<tr><td>16 </td><td>0  </td><td>0  </td><td>1  </td><td>2  </td><td>0  </td><td>0  </td><td>1  </td><td>0  </td><td>0  </td><td>...</td><td>2  </td><td>2  </td><td>4  </td><td>9  </td><td>0  </td><td>0  </td><td>0  </td><td>0  </td><td>0  </td><td>0  </td></tr>\n",
       "\t<tr><td>17 </td><td>0  </td><td>0  </td><td>2  </td><td>0  </td><td>1  </td><td>0  </td><td>1  </td><td>0  </td><td>0  </td><td>...</td><td>3  </td><td>1  </td><td>1  </td><td>3  </td><td>0  </td><td>0  </td><td>0  </td><td>1  </td><td>1  </td><td>0  </td></tr>\n",
       "\t<tr><td>19 </td><td>0  </td><td>5  </td><td>1  </td><td>4  </td><td>0  </td><td>0  </td><td>0  </td><td>0  </td><td>0  </td><td>...</td><td>4  </td><td>2  </td><td>0  </td><td>9  </td><td>0  </td><td>1  </td><td>0  </td><td>1  </td><td>1  </td><td>1  </td></tr>\n",
       "</tbody>\n",
       "</table>\n"
      ],
      "text/latex": [
       "\\begin{tabular}{r|lllllllllllllllllllllllllllllllllllllllllllllllllllllllllll}\n",
       " id & target & ps\\_ind\\_01 & ps\\_ind\\_02\\_cat & ps\\_ind\\_03 & ps\\_ind\\_04\\_cat & ps\\_ind\\_05\\_cat & ps\\_ind\\_06\\_bin & ps\\_ind\\_07\\_bin & ps\\_ind\\_08\\_bin & ... & ps\\_calc\\_11 & ps\\_calc\\_12 & ps\\_calc\\_13 & ps\\_calc\\_14 & ps\\_calc\\_15\\_bin & ps\\_calc\\_16\\_bin & ps\\_calc\\_17\\_bin & ps\\_calc\\_18\\_bin & ps\\_calc\\_19\\_bin & ps\\_calc\\_20\\_bin\\\\\n",
       "\\hline\n",
       "\t  7  & 0   & 2   & 2   & 5   & 1   & 0   & 0   & 1   & 0   & ... & 9   & 1   & 5   & 8   & 0   & 1   & 1   & 0   & 0   & 1  \\\\\n",
       "\t  9  & 0   & 1   & 1   & 7   & 0   & 0   & 0   & 0   & 1   & ... & 3   & 1   & 1   & 9   & 0   & 1   & 1   & 0   & 1   & 0  \\\\\n",
       "\t 13  & 0   & 5   & 4   & 9   & 1   & 0   & 0   & 0   & 1   & ... & 4   & 2   & 7   & 7   & 0   & 1   & 1   & 0   & 1   & 0  \\\\\n",
       "\t 16  & 0   & 0   & 1   & 2   & 0   & 0   & 1   & 0   & 0   & ... & 2   & 2   & 4   & 9   & 0   & 0   & 0   & 0   & 0   & 0  \\\\\n",
       "\t 17  & 0   & 0   & 2   & 0   & 1   & 0   & 1   & 0   & 0   & ... & 3   & 1   & 1   & 3   & 0   & 0   & 0   & 1   & 1   & 0  \\\\\n",
       "\t 19  & 0   & 5   & 1   & 4   & 0   & 0   & 0   & 0   & 0   & ... & 4   & 2   & 0   & 9   & 0   & 1   & 0   & 1   & 1   & 1  \\\\\n",
       "\\end{tabular}\n"
      ],
      "text/markdown": [
       "\n",
       "id | target | ps_ind_01 | ps_ind_02_cat | ps_ind_03 | ps_ind_04_cat | ps_ind_05_cat | ps_ind_06_bin | ps_ind_07_bin | ps_ind_08_bin | ... | ps_calc_11 | ps_calc_12 | ps_calc_13 | ps_calc_14 | ps_calc_15_bin | ps_calc_16_bin | ps_calc_17_bin | ps_calc_18_bin | ps_calc_19_bin | ps_calc_20_bin | \n",
       "|---|---|---|---|---|---|\n",
       "|  7  | 0   | 2   | 2   | 5   | 1   | 0   | 0   | 1   | 0   | ... | 9   | 1   | 5   | 8   | 0   | 1   | 1   | 0   | 0   | 1   | \n",
       "|  9  | 0   | 1   | 1   | 7   | 0   | 0   | 0   | 0   | 1   | ... | 3   | 1   | 1   | 9   | 0   | 1   | 1   | 0   | 1   | 0   | \n",
       "| 13  | 0   | 5   | 4   | 9   | 1   | 0   | 0   | 0   | 1   | ... | 4   | 2   | 7   | 7   | 0   | 1   | 1   | 0   | 1   | 0   | \n",
       "| 16  | 0   | 0   | 1   | 2   | 0   | 0   | 1   | 0   | 0   | ... | 2   | 2   | 4   | 9   | 0   | 0   | 0   | 0   | 0   | 0   | \n",
       "| 17  | 0   | 0   | 2   | 0   | 1   | 0   | 1   | 0   | 0   | ... | 3   | 1   | 1   | 3   | 0   | 0   | 0   | 1   | 1   | 0   | \n",
       "| 19  | 0   | 5   | 1   | 4   | 0   | 0   | 0   | 0   | 0   | ... | 4   | 2   | 0   | 9   | 0   | 1   | 0   | 1   | 1   | 1   | \n",
       "\n",
       "\n"
      ],
      "text/plain": [
       "  id target ps_ind_01 ps_ind_02_cat ps_ind_03 ps_ind_04_cat ps_ind_05_cat\n",
       "1  7 0      2         2             5         1             0            \n",
       "2  9 0      1         1             7         0             0            \n",
       "3 13 0      5         4             9         1             0            \n",
       "4 16 0      0         1             2         0             0            \n",
       "5 17 0      0         2             0         1             0            \n",
       "6 19 0      5         1             4         0             0            \n",
       "  ps_ind_06_bin ps_ind_07_bin ps_ind_08_bin ... ps_calc_11 ps_calc_12\n",
       "1 0             1             0             ... 9          1         \n",
       "2 0             0             1             ... 3          1         \n",
       "3 0             0             1             ... 4          2         \n",
       "4 1             0             0             ... 2          2         \n",
       "5 1             0             0             ... 3          1         \n",
       "6 0             0             0             ... 4          2         \n",
       "  ps_calc_13 ps_calc_14 ps_calc_15_bin ps_calc_16_bin ps_calc_17_bin\n",
       "1 5          8          0              1              1             \n",
       "2 1          9          0              1              1             \n",
       "3 7          7          0              1              1             \n",
       "4 4          9          0              0              0             \n",
       "5 1          3          0              0              0             \n",
       "6 0          9          0              1              0             \n",
       "  ps_calc_18_bin ps_calc_19_bin ps_calc_20_bin\n",
       "1 0              0              1             \n",
       "2 0              1              0             \n",
       "3 0              1              0             \n",
       "4 0              0              0             \n",
       "5 1              1              0             \n",
       "6 1              1              1             "
      ]
     },
     "metadata": {},
     "output_type": "display_data"
    }
   ],
   "source": [
    "head(train)"
   ]
  },
  {
   "cell_type": "code",
   "execution_count": 3,
   "metadata": {},
   "outputs": [
    {
     "data": {
      "text/html": [
       "595212"
      ],
      "text/latex": [
       "595212"
      ],
      "text/markdown": [
       "595212"
      ],
      "text/plain": [
       "[1] 595212"
      ]
     },
     "metadata": {},
     "output_type": "display_data"
    },
    {
     "data": {
      "text/html": [
       "59"
      ],
      "text/latex": [
       "59"
      ],
      "text/markdown": [
       "59"
      ],
      "text/plain": [
       "[1] 59"
      ]
     },
     "metadata": {},
     "output_type": "display_data"
    }
   ],
   "source": [
    "m <- nrow(train)\n",
    "n <- ncol(train)\n",
    "m\n",
    "n"
   ]
  },
  {
   "cell_type": "code",
   "execution_count": 4,
   "metadata": {},
   "outputs": [
    {
     "data": {
      "text/html": [
       "<table>\n",
       "<thead><tr><th scope=col>target</th><th scope=col>ps_ind_01</th><th scope=col>ps_ind_02_cat</th><th scope=col>ps_ind_03</th><th scope=col>ps_ind_04_cat</th><th scope=col>ps_ind_05_cat</th><th scope=col>ps_ind_06_bin</th><th scope=col>ps_ind_07_bin</th><th scope=col>ps_ind_08_bin</th><th scope=col>ps_ind_09_bin</th><th scope=col>...</th><th scope=col>ps_calc_11</th><th scope=col>ps_calc_12</th><th scope=col>ps_calc_13</th><th scope=col>ps_calc_14</th><th scope=col>ps_calc_15_bin</th><th scope=col>ps_calc_16_bin</th><th scope=col>ps_calc_17_bin</th><th scope=col>ps_calc_18_bin</th><th scope=col>ps_calc_19_bin</th><th scope=col>ps_calc_20_bin</th></tr></thead>\n",
       "<tbody>\n",
       "\t<tr><td>0  </td><td>2  </td><td>2  </td><td>5  </td><td>1  </td><td>0  </td><td>0  </td><td>1  </td><td>0  </td><td>0  </td><td>...</td><td>9  </td><td>1  </td><td>5  </td><td>8  </td><td>0  </td><td>1  </td><td>1  </td><td>0  </td><td>0  </td><td>1  </td></tr>\n",
       "\t<tr><td>0  </td><td>1  </td><td>1  </td><td>7  </td><td>0  </td><td>0  </td><td>0  </td><td>0  </td><td>1  </td><td>0  </td><td>...</td><td>3  </td><td>1  </td><td>1  </td><td>9  </td><td>0  </td><td>1  </td><td>1  </td><td>0  </td><td>1  </td><td>0  </td></tr>\n",
       "\t<tr><td>0  </td><td>5  </td><td>4  </td><td>9  </td><td>1  </td><td>0  </td><td>0  </td><td>0  </td><td>1  </td><td>0  </td><td>...</td><td>4  </td><td>2  </td><td>7  </td><td>7  </td><td>0  </td><td>1  </td><td>1  </td><td>0  </td><td>1  </td><td>0  </td></tr>\n",
       "\t<tr><td>0  </td><td>0  </td><td>1  </td><td>2  </td><td>0  </td><td>0  </td><td>1  </td><td>0  </td><td>0  </td><td>0  </td><td>...</td><td>2  </td><td>2  </td><td>4  </td><td>9  </td><td>0  </td><td>0  </td><td>0  </td><td>0  </td><td>0  </td><td>0  </td></tr>\n",
       "\t<tr><td>0  </td><td>0  </td><td>2  </td><td>0  </td><td>1  </td><td>0  </td><td>1  </td><td>0  </td><td>0  </td><td>0  </td><td>...</td><td>3  </td><td>1  </td><td>1  </td><td>3  </td><td>0  </td><td>0  </td><td>0  </td><td>1  </td><td>1  </td><td>0  </td></tr>\n",
       "\t<tr><td>0  </td><td>5  </td><td>1  </td><td>4  </td><td>0  </td><td>0  </td><td>0  </td><td>0  </td><td>0  </td><td>1  </td><td>...</td><td>4  </td><td>2  </td><td>0  </td><td>9  </td><td>0  </td><td>1  </td><td>0  </td><td>1  </td><td>1  </td><td>1  </td></tr>\n",
       "</tbody>\n",
       "</table>\n"
      ],
      "text/latex": [
       "\\begin{tabular}{r|llllllllllllllllllllllllllllllllllllllllllllllllllllllllll}\n",
       " target & ps\\_ind\\_01 & ps\\_ind\\_02\\_cat & ps\\_ind\\_03 & ps\\_ind\\_04\\_cat & ps\\_ind\\_05\\_cat & ps\\_ind\\_06\\_bin & ps\\_ind\\_07\\_bin & ps\\_ind\\_08\\_bin & ps\\_ind\\_09\\_bin & ... & ps\\_calc\\_11 & ps\\_calc\\_12 & ps\\_calc\\_13 & ps\\_calc\\_14 & ps\\_calc\\_15\\_bin & ps\\_calc\\_16\\_bin & ps\\_calc\\_17\\_bin & ps\\_calc\\_18\\_bin & ps\\_calc\\_19\\_bin & ps\\_calc\\_20\\_bin\\\\\n",
       "\\hline\n",
       "\t 0   & 2   & 2   & 5   & 1   & 0   & 0   & 1   & 0   & 0   & ... & 9   & 1   & 5   & 8   & 0   & 1   & 1   & 0   & 0   & 1  \\\\\n",
       "\t 0   & 1   & 1   & 7   & 0   & 0   & 0   & 0   & 1   & 0   & ... & 3   & 1   & 1   & 9   & 0   & 1   & 1   & 0   & 1   & 0  \\\\\n",
       "\t 0   & 5   & 4   & 9   & 1   & 0   & 0   & 0   & 1   & 0   & ... & 4   & 2   & 7   & 7   & 0   & 1   & 1   & 0   & 1   & 0  \\\\\n",
       "\t 0   & 0   & 1   & 2   & 0   & 0   & 1   & 0   & 0   & 0   & ... & 2   & 2   & 4   & 9   & 0   & 0   & 0   & 0   & 0   & 0  \\\\\n",
       "\t 0   & 0   & 2   & 0   & 1   & 0   & 1   & 0   & 0   & 0   & ... & 3   & 1   & 1   & 3   & 0   & 0   & 0   & 1   & 1   & 0  \\\\\n",
       "\t 0   & 5   & 1   & 4   & 0   & 0   & 0   & 0   & 0   & 1   & ... & 4   & 2   & 0   & 9   & 0   & 1   & 0   & 1   & 1   & 1  \\\\\n",
       "\\end{tabular}\n"
      ],
      "text/markdown": [
       "\n",
       "target | ps_ind_01 | ps_ind_02_cat | ps_ind_03 | ps_ind_04_cat | ps_ind_05_cat | ps_ind_06_bin | ps_ind_07_bin | ps_ind_08_bin | ps_ind_09_bin | ... | ps_calc_11 | ps_calc_12 | ps_calc_13 | ps_calc_14 | ps_calc_15_bin | ps_calc_16_bin | ps_calc_17_bin | ps_calc_18_bin | ps_calc_19_bin | ps_calc_20_bin | \n",
       "|---|---|---|---|---|---|\n",
       "| 0   | 2   | 2   | 5   | 1   | 0   | 0   | 1   | 0   | 0   | ... | 9   | 1   | 5   | 8   | 0   | 1   | 1   | 0   | 0   | 1   | \n",
       "| 0   | 1   | 1   | 7   | 0   | 0   | 0   | 0   | 1   | 0   | ... | 3   | 1   | 1   | 9   | 0   | 1   | 1   | 0   | 1   | 0   | \n",
       "| 0   | 5   | 4   | 9   | 1   | 0   | 0   | 0   | 1   | 0   | ... | 4   | 2   | 7   | 7   | 0   | 1   | 1   | 0   | 1   | 0   | \n",
       "| 0   | 0   | 1   | 2   | 0   | 0   | 1   | 0   | 0   | 0   | ... | 2   | 2   | 4   | 9   | 0   | 0   | 0   | 0   | 0   | 0   | \n",
       "| 0   | 0   | 2   | 0   | 1   | 0   | 1   | 0   | 0   | 0   | ... | 3   | 1   | 1   | 3   | 0   | 0   | 0   | 1   | 1   | 0   | \n",
       "| 0   | 5   | 1   | 4   | 0   | 0   | 0   | 0   | 0   | 1   | ... | 4   | 2   | 0   | 9   | 0   | 1   | 0   | 1   | 1   | 1   | \n",
       "\n",
       "\n"
      ],
      "text/plain": [
       "  target ps_ind_01 ps_ind_02_cat ps_ind_03 ps_ind_04_cat ps_ind_05_cat\n",
       "1 0      2         2             5         1             0            \n",
       "2 0      1         1             7         0             0            \n",
       "3 0      5         4             9         1             0            \n",
       "4 0      0         1             2         0             0            \n",
       "5 0      0         2             0         1             0            \n",
       "6 0      5         1             4         0             0            \n",
       "  ps_ind_06_bin ps_ind_07_bin ps_ind_08_bin ps_ind_09_bin ... ps_calc_11\n",
       "1 0             1             0             0             ... 9         \n",
       "2 0             0             1             0             ... 3         \n",
       "3 0             0             1             0             ... 4         \n",
       "4 1             0             0             0             ... 2         \n",
       "5 1             0             0             0             ... 3         \n",
       "6 0             0             0             1             ... 4         \n",
       "  ps_calc_12 ps_calc_13 ps_calc_14 ps_calc_15_bin ps_calc_16_bin ps_calc_17_bin\n",
       "1 1          5          8          0              1              1             \n",
       "2 1          1          9          0              1              1             \n",
       "3 2          7          7          0              1              1             \n",
       "4 2          4          9          0              0              0             \n",
       "5 1          1          3          0              0              0             \n",
       "6 2          0          9          0              1              0             \n",
       "  ps_calc_18_bin ps_calc_19_bin ps_calc_20_bin\n",
       "1 0              0              1             \n",
       "2 0              1              0             \n",
       "3 0              1              0             \n",
       "4 0              0              0             \n",
       "5 1              1              0             \n",
       "6 1              1              1             "
      ]
     },
     "metadata": {},
     "output_type": "display_data"
    },
    {
     "data": {
      "text/html": [
       "<ol class=list-inline>\n",
       "\t<li>595212</li>\n",
       "\t<li>58</li>\n",
       "</ol>\n"
      ],
      "text/latex": [
       "\\begin{enumerate*}\n",
       "\\item 595212\n",
       "\\item 58\n",
       "\\end{enumerate*}\n"
      ],
      "text/markdown": [
       "1. 595212\n",
       "2. 58\n",
       "\n",
       "\n"
      ],
      "text/plain": [
       "[1] 595212     58"
      ]
     },
     "metadata": {},
     "output_type": "display_data"
    }
   ],
   "source": [
    "df = train[ , 2:n]\n",
    "head(df)\n",
    "dim(df)"
   ]
  },
  {
   "cell_type": "code",
   "execution_count": 5,
   "metadata": {},
   "outputs": [
    {
     "data": {
      "text/html": [
       "<ol class=list-inline>\n",
       "\t<li>573518</li>\n",
       "\t<li>58</li>\n",
       "</ol>\n"
      ],
      "text/latex": [
       "\\begin{enumerate*}\n",
       "\\item 573518\n",
       "\\item 58\n",
       "\\end{enumerate*}\n"
      ],
      "text/markdown": [
       "1. 573518\n",
       "2. 58\n",
       "\n",
       "\n"
      ],
      "text/plain": [
       "[1] 573518     58"
      ]
     },
     "metadata": {},
     "output_type": "display_data"
    },
    {
     "data": {
      "text/html": [
       "<ol class=list-inline>\n",
       "\t<li>21694</li>\n",
       "\t<li>58</li>\n",
       "</ol>\n"
      ],
      "text/latex": [
       "\\begin{enumerate*}\n",
       "\\item 21694\n",
       "\\item 58\n",
       "\\end{enumerate*}\n"
      ],
      "text/markdown": [
       "1. 21694\n",
       "2. 58\n",
       "\n",
       "\n"
      ],
      "text/plain": [
       "[1] 21694    58"
      ]
     },
     "metadata": {},
     "output_type": "display_data"
    }
   ],
   "source": [
    "df0 = subset(df, train$target == 0)\n",
    "dim(df0)\n",
    "df1 = subset(df, train$target == 1)\n",
    "dim(df1)"
   ]
  },
  {
   "cell_type": "code",
   "execution_count": 6,
   "metadata": {
    "collapsed": true
   },
   "outputs": [],
   "source": [
    "df0[df0 == -1] <- NA\n",
    "df1[df1 == -1] <- NA"
   ]
  },
  {
   "cell_type": "code",
   "execution_count": 7,
   "metadata": {},
   "outputs": [
    {
     "data": {
      "text/html": [
       "<ol class=list-inline>\n",
       "\t<li>2</li>\n",
       "\t<li>1</li>\n",
       "\t<li>5</li>\n",
       "\t<li>0</li>\n",
       "\t<li>0</li>\n",
       "\t<li>5</li>\n",
       "</ol>\n"
      ],
      "text/latex": [
       "\\begin{enumerate*}\n",
       "\\item 2\n",
       "\\item 1\n",
       "\\item 5\n",
       "\\item 0\n",
       "\\item 0\n",
       "\\item 5\n",
       "\\end{enumerate*}\n"
      ],
      "text/markdown": [
       "1. 2\n",
       "2. 1\n",
       "3. 5\n",
       "4. 0\n",
       "5. 0\n",
       "6. 5\n",
       "\n",
       "\n"
      ],
      "text/plain": [
       "[1] 2 1 5 0 0 5"
      ]
     },
     "metadata": {},
     "output_type": "display_data"
    },
    {
     "data": {
      "text/html": [
       "0"
      ],
      "text/latex": [
       "0"
      ],
      "text/markdown": [
       "0"
      ],
      "text/plain": [
       "[1] 0"
      ]
     },
     "metadata": {},
     "output_type": "display_data"
    }
   ],
   "source": [
    "# for reach column, make a vector of all the known values\n",
    "col = df0[ , 2]\n",
    "missing <- is.na(col)\n",
    "num_missing <- sum(missing)\n",
    "dist <- col[!missing]\n",
    "imputed <- col\n",
    "imputed[missing] <- sample(dist, num_missing, replace=TRUE)\n",
    "head(imputed)\n",
    "num_missing\n",
    "# first column has no missing so not a good use case"
   ]
  },
  {
   "cell_type": "code",
   "execution_count": 8,
   "metadata": {},
   "outputs": [
    {
     "data": {
      "text/html": [
       "573518"
      ],
      "text/latex": [
       "573518"
      ],
      "text/markdown": [
       "573518"
      ],
      "text/plain": [
       "[1] 573518"
      ]
     },
     "metadata": {},
     "output_type": "display_data"
    },
    {
     "data": {
      "text/html": [
       "21694"
      ],
      "text/latex": [
       "21694"
      ],
      "text/markdown": [
       "21694"
      ],
      "text/plain": [
       "[1] 21694"
      ]
     },
     "metadata": {},
     "output_type": "display_data"
    }
   ],
   "source": [
    "# use first column as starting df \n",
    "new_df0 = df0[ , 1]\n",
    "new_df1 = df1[ , 1]\n",
    "length(new_df0)\n",
    "length(new_df1)"
   ]
  },
  {
   "cell_type": "code",
   "execution_count": 9,
   "metadata": {},
   "outputs": [
    {
     "data": {
      "text/html": [
       "<ol class=list-inline>\n",
       "\t<li>2</li>\n",
       "\t<li>1</li>\n",
       "\t<li>4</li>\n",
       "\t<li>1</li>\n",
       "\t<li>2</li>\n",
       "\t<li>1</li>\n",
       "</ol>\n"
      ],
      "text/latex": [
       "\\begin{enumerate*}\n",
       "\\item 2\n",
       "\\item 1\n",
       "\\item 4\n",
       "\\item 1\n",
       "\\item 2\n",
       "\\item 1\n",
       "\\end{enumerate*}\n"
      ],
      "text/markdown": [
       "1. 2\n",
       "2. 1\n",
       "3. 4\n",
       "4. 1\n",
       "5. 2\n",
       "6. 1\n",
       "\n",
       "\n"
      ],
      "text/plain": [
       "[1] 2 1 4 1 2 1"
      ]
     },
     "metadata": {},
     "output_type": "display_data"
    },
    {
     "data": {
      "text/html": [
       "176"
      ],
      "text/latex": [
       "176"
      ],
      "text/markdown": [
       "176"
      ],
      "text/plain": [
       "[1] 176"
      ]
     },
     "metadata": {},
     "output_type": "display_data"
    }
   ],
   "source": [
    "# test on second column before applying to all\n",
    "col = df0[ , 3]\n",
    "missing <- is.na(col)\n",
    "num_missing <- sum(missing)\n",
    "dist <- col[!missing]\n",
    "imputed <- col\n",
    "imputed[missing] <- sample(dist, num_missing, replace=TRUE)\n",
    "head(imputed)\n",
    "num_missing"
   ]
  },
  {
   "cell_type": "code",
   "execution_count": 10,
   "metadata": {},
   "outputs": [
    {
     "data": {
      "text/html": [
       "0"
      ],
      "text/latex": [
       "0"
      ],
      "text/markdown": [
       "0"
      ],
      "text/plain": [
       "[1] 0"
      ]
     },
     "metadata": {},
     "output_type": "display_data"
    }
   ],
   "source": [
    "# quickly check to make sure all missing were imputed\n",
    "missing <- is.na(imputed)\n",
    "sum(missing)"
   ]
  },
  {
   "cell_type": "code",
   "execution_count": 11,
   "metadata": {
    "scrolled": false
   },
   "outputs": [
    {
     "data": {
      "text/html": [
       "<ol class=list-inline>\n",
       "\t<li>'target'</li>\n",
       "\t<li>'ps_ind_01'</li>\n",
       "\t<li>'ps_ind_02_cat'</li>\n",
       "\t<li>'ps_ind_03'</li>\n",
       "\t<li>'ps_ind_04_cat'</li>\n",
       "\t<li>'ps_ind_05_cat'</li>\n",
       "\t<li>'ps_ind_06_bin'</li>\n",
       "\t<li>'ps_ind_07_bin'</li>\n",
       "\t<li>'ps_ind_08_bin'</li>\n",
       "\t<li>'ps_ind_09_bin'</li>\n",
       "\t<li>'ps_ind_10_bin'</li>\n",
       "\t<li>'ps_ind_11_bin'</li>\n",
       "\t<li>'ps_ind_12_bin'</li>\n",
       "\t<li>'ps_ind_13_bin'</li>\n",
       "\t<li>'ps_ind_14'</li>\n",
       "\t<li>'ps_ind_15'</li>\n",
       "\t<li>'ps_ind_16_bin'</li>\n",
       "\t<li>'ps_ind_17_bin'</li>\n",
       "\t<li>'ps_ind_18_bin'</li>\n",
       "\t<li>'ps_reg_01'</li>\n",
       "\t<li>'ps_reg_02'</li>\n",
       "\t<li>'ps_reg_03'</li>\n",
       "\t<li>'ps_car_01_cat'</li>\n",
       "\t<li>'ps_car_02_cat'</li>\n",
       "\t<li>'ps_car_03_cat'</li>\n",
       "\t<li>'ps_car_04_cat'</li>\n",
       "\t<li>'ps_car_05_cat'</li>\n",
       "\t<li>'ps_car_06_cat'</li>\n",
       "\t<li>'ps_car_07_cat'</li>\n",
       "\t<li>'ps_car_08_cat'</li>\n",
       "\t<li>'ps_car_09_cat'</li>\n",
       "\t<li>'ps_car_10_cat'</li>\n",
       "\t<li>'ps_car_11_cat'</li>\n",
       "\t<li>'ps_car_11'</li>\n",
       "\t<li>'ps_car_12'</li>\n",
       "\t<li>'ps_car_13'</li>\n",
       "\t<li>'ps_car_14'</li>\n",
       "\t<li>'ps_car_15'</li>\n",
       "\t<li>'ps_calc_01'</li>\n",
       "\t<li>'ps_calc_02'</li>\n",
       "\t<li>'ps_calc_03'</li>\n",
       "\t<li>'ps_calc_04'</li>\n",
       "\t<li>'ps_calc_05'</li>\n",
       "\t<li>'ps_calc_06'</li>\n",
       "\t<li>'ps_calc_07'</li>\n",
       "\t<li>'ps_calc_08'</li>\n",
       "\t<li>'ps_calc_09'</li>\n",
       "\t<li>'ps_calc_10'</li>\n",
       "\t<li>'ps_calc_11'</li>\n",
       "\t<li>'ps_calc_12'</li>\n",
       "\t<li>'ps_calc_13'</li>\n",
       "\t<li>'ps_calc_14'</li>\n",
       "\t<li>'ps_calc_15_bin'</li>\n",
       "\t<li>'ps_calc_16_bin'</li>\n",
       "\t<li>'ps_calc_17_bin'</li>\n",
       "\t<li>'ps_calc_18_bin'</li>\n",
       "\t<li>'ps_calc_19_bin'</li>\n",
       "\t<li>'ps_calc_20_bin'</li>\n",
       "</ol>\n"
      ],
      "text/latex": [
       "\\begin{enumerate*}\n",
       "\\item 'target'\n",
       "\\item 'ps\\_ind\\_01'\n",
       "\\item 'ps\\_ind\\_02\\_cat'\n",
       "\\item 'ps\\_ind\\_03'\n",
       "\\item 'ps\\_ind\\_04\\_cat'\n",
       "\\item 'ps\\_ind\\_05\\_cat'\n",
       "\\item 'ps\\_ind\\_06\\_bin'\n",
       "\\item 'ps\\_ind\\_07\\_bin'\n",
       "\\item 'ps\\_ind\\_08\\_bin'\n",
       "\\item 'ps\\_ind\\_09\\_bin'\n",
       "\\item 'ps\\_ind\\_10\\_bin'\n",
       "\\item 'ps\\_ind\\_11\\_bin'\n",
       "\\item 'ps\\_ind\\_12\\_bin'\n",
       "\\item 'ps\\_ind\\_13\\_bin'\n",
       "\\item 'ps\\_ind\\_14'\n",
       "\\item 'ps\\_ind\\_15'\n",
       "\\item 'ps\\_ind\\_16\\_bin'\n",
       "\\item 'ps\\_ind\\_17\\_bin'\n",
       "\\item 'ps\\_ind\\_18\\_bin'\n",
       "\\item 'ps\\_reg\\_01'\n",
       "\\item 'ps\\_reg\\_02'\n",
       "\\item 'ps\\_reg\\_03'\n",
       "\\item 'ps\\_car\\_01\\_cat'\n",
       "\\item 'ps\\_car\\_02\\_cat'\n",
       "\\item 'ps\\_car\\_03\\_cat'\n",
       "\\item 'ps\\_car\\_04\\_cat'\n",
       "\\item 'ps\\_car\\_05\\_cat'\n",
       "\\item 'ps\\_car\\_06\\_cat'\n",
       "\\item 'ps\\_car\\_07\\_cat'\n",
       "\\item 'ps\\_car\\_08\\_cat'\n",
       "\\item 'ps\\_car\\_09\\_cat'\n",
       "\\item 'ps\\_car\\_10\\_cat'\n",
       "\\item 'ps\\_car\\_11\\_cat'\n",
       "\\item 'ps\\_car\\_11'\n",
       "\\item 'ps\\_car\\_12'\n",
       "\\item 'ps\\_car\\_13'\n",
       "\\item 'ps\\_car\\_14'\n",
       "\\item 'ps\\_car\\_15'\n",
       "\\item 'ps\\_calc\\_01'\n",
       "\\item 'ps\\_calc\\_02'\n",
       "\\item 'ps\\_calc\\_03'\n",
       "\\item 'ps\\_calc\\_04'\n",
       "\\item 'ps\\_calc\\_05'\n",
       "\\item 'ps\\_calc\\_06'\n",
       "\\item 'ps\\_calc\\_07'\n",
       "\\item 'ps\\_calc\\_08'\n",
       "\\item 'ps\\_calc\\_09'\n",
       "\\item 'ps\\_calc\\_10'\n",
       "\\item 'ps\\_calc\\_11'\n",
       "\\item 'ps\\_calc\\_12'\n",
       "\\item 'ps\\_calc\\_13'\n",
       "\\item 'ps\\_calc\\_14'\n",
       "\\item 'ps\\_calc\\_15\\_bin'\n",
       "\\item 'ps\\_calc\\_16\\_bin'\n",
       "\\item 'ps\\_calc\\_17\\_bin'\n",
       "\\item 'ps\\_calc\\_18\\_bin'\n",
       "\\item 'ps\\_calc\\_19\\_bin'\n",
       "\\item 'ps\\_calc\\_20\\_bin'\n",
       "\\end{enumerate*}\n"
      ],
      "text/markdown": [
       "1. 'target'\n",
       "2. 'ps_ind_01'\n",
       "3. 'ps_ind_02_cat'\n",
       "4. 'ps_ind_03'\n",
       "5. 'ps_ind_04_cat'\n",
       "6. 'ps_ind_05_cat'\n",
       "7. 'ps_ind_06_bin'\n",
       "8. 'ps_ind_07_bin'\n",
       "9. 'ps_ind_08_bin'\n",
       "10. 'ps_ind_09_bin'\n",
       "11. 'ps_ind_10_bin'\n",
       "12. 'ps_ind_11_bin'\n",
       "13. 'ps_ind_12_bin'\n",
       "14. 'ps_ind_13_bin'\n",
       "15. 'ps_ind_14'\n",
       "16. 'ps_ind_15'\n",
       "17. 'ps_ind_16_bin'\n",
       "18. 'ps_ind_17_bin'\n",
       "19. 'ps_ind_18_bin'\n",
       "20. 'ps_reg_01'\n",
       "21. 'ps_reg_02'\n",
       "22. 'ps_reg_03'\n",
       "23. 'ps_car_01_cat'\n",
       "24. 'ps_car_02_cat'\n",
       "25. 'ps_car_03_cat'\n",
       "26. 'ps_car_04_cat'\n",
       "27. 'ps_car_05_cat'\n",
       "28. 'ps_car_06_cat'\n",
       "29. 'ps_car_07_cat'\n",
       "30. 'ps_car_08_cat'\n",
       "31. 'ps_car_09_cat'\n",
       "32. 'ps_car_10_cat'\n",
       "33. 'ps_car_11_cat'\n",
       "34. 'ps_car_11'\n",
       "35. 'ps_car_12'\n",
       "36. 'ps_car_13'\n",
       "37. 'ps_car_14'\n",
       "38. 'ps_car_15'\n",
       "39. 'ps_calc_01'\n",
       "40. 'ps_calc_02'\n",
       "41. 'ps_calc_03'\n",
       "42. 'ps_calc_04'\n",
       "43. 'ps_calc_05'\n",
       "44. 'ps_calc_06'\n",
       "45. 'ps_calc_07'\n",
       "46. 'ps_calc_08'\n",
       "47. 'ps_calc_09'\n",
       "48. 'ps_calc_10'\n",
       "49. 'ps_calc_11'\n",
       "50. 'ps_calc_12'\n",
       "51. 'ps_calc_13'\n",
       "52. 'ps_calc_14'\n",
       "53. 'ps_calc_15_bin'\n",
       "54. 'ps_calc_16_bin'\n",
       "55. 'ps_calc_17_bin'\n",
       "56. 'ps_calc_18_bin'\n",
       "57. 'ps_calc_19_bin'\n",
       "58. 'ps_calc_20_bin'\n",
       "\n",
       "\n"
      ],
      "text/plain": [
       " [1] \"target\"         \"ps_ind_01\"      \"ps_ind_02_cat\"  \"ps_ind_03\"     \n",
       " [5] \"ps_ind_04_cat\"  \"ps_ind_05_cat\"  \"ps_ind_06_bin\"  \"ps_ind_07_bin\" \n",
       " [9] \"ps_ind_08_bin\"  \"ps_ind_09_bin\"  \"ps_ind_10_bin\"  \"ps_ind_11_bin\" \n",
       "[13] \"ps_ind_12_bin\"  \"ps_ind_13_bin\"  \"ps_ind_14\"      \"ps_ind_15\"     \n",
       "[17] \"ps_ind_16_bin\"  \"ps_ind_17_bin\"  \"ps_ind_18_bin\"  \"ps_reg_01\"     \n",
       "[21] \"ps_reg_02\"      \"ps_reg_03\"      \"ps_car_01_cat\"  \"ps_car_02_cat\" \n",
       "[25] \"ps_car_03_cat\"  \"ps_car_04_cat\"  \"ps_car_05_cat\"  \"ps_car_06_cat\" \n",
       "[29] \"ps_car_07_cat\"  \"ps_car_08_cat\"  \"ps_car_09_cat\"  \"ps_car_10_cat\" \n",
       "[33] \"ps_car_11_cat\"  \"ps_car_11\"      \"ps_car_12\"      \"ps_car_13\"     \n",
       "[37] \"ps_car_14\"      \"ps_car_15\"      \"ps_calc_01\"     \"ps_calc_02\"    \n",
       "[41] \"ps_calc_03\"     \"ps_calc_04\"     \"ps_calc_05\"     \"ps_calc_06\"    \n",
       "[45] \"ps_calc_07\"     \"ps_calc_08\"     \"ps_calc_09\"     \"ps_calc_10\"    \n",
       "[49] \"ps_calc_11\"     \"ps_calc_12\"     \"ps_calc_13\"     \"ps_calc_14\"    \n",
       "[53] \"ps_calc_15_bin\" \"ps_calc_16_bin\" \"ps_calc_17_bin\" \"ps_calc_18_bin\"\n",
       "[57] \"ps_calc_19_bin\" \"ps_calc_20_bin\""
      ]
     },
     "metadata": {},
     "output_type": "display_data"
    },
    {
     "data": {
      "text/html": [
       "58"
      ],
      "text/latex": [
       "58"
      ],
      "text/markdown": [
       "58"
      ],
      "text/plain": [
       "[1] 58"
      ]
     },
     "metadata": {},
     "output_type": "display_data"
    }
   ],
   "source": [
    "col_names <- colnames(df0)\n",
    "col_names\n",
    "length(col_names)"
   ]
  },
  {
   "cell_type": "code",
   "execution_count": 12,
   "metadata": {
    "collapsed": true
   },
   "outputs": [],
   "source": [
    "impute1 <- function(col) {\n",
    "    missing <- is.na(col)\n",
    "    num_missing <- sum(missing)\n",
    "    dist <- col[!missing]\n",
    "    imputed <- col\n",
    "    imputed[missing] <- sample(dist, num_missing, replace=TRUE)\n",
    "    return(imputed)\n",
    "}"
   ]
  },
  {
   "cell_type": "code",
   "execution_count": 13,
   "metadata": {
    "collapsed": true
   },
   "outputs": [],
   "source": [
    "for (i in 2:length(col_names)){\n",
    "    col <- df0[ , i]\n",
    "    new_col <- impute1(col)\n",
    "    new_df0 <- cbind(new_df0, new_col)\n",
    "}"
   ]
  },
  {
   "cell_type": "code",
   "execution_count": 14,
   "metadata": {
    "collapsed": true
   },
   "outputs": [],
   "source": [
    "for (i in 2:length(col_names)){\n",
    "    col <- df1[ , i]\n",
    "    new_col <- impute1(col)\n",
    "    new_df1 <- cbind(new_df1, new_col)\n",
    "}"
   ]
  },
  {
   "cell_type": "code",
   "execution_count": 15,
   "metadata": {},
   "outputs": [
    {
     "data": {
      "text/html": [
       "58"
      ],
      "text/latex": [
       "58"
      ],
      "text/markdown": [
       "58"
      ],
      "text/plain": [
       "[1] 58"
      ]
     },
     "metadata": {},
     "output_type": "display_data"
    },
    {
     "data": {
      "text/html": [
       "573518"
      ],
      "text/latex": [
       "573518"
      ],
      "text/markdown": [
       "573518"
      ],
      "text/plain": [
       "[1] 573518"
      ]
     },
     "metadata": {},
     "output_type": "display_data"
    }
   ],
   "source": [
    "ncol(new_df0)\n",
    "nrow(new_df0)"
   ]
  },
  {
   "cell_type": "code",
   "execution_count": 16,
   "metadata": {},
   "outputs": [
    {
     "data": {
      "text/html": [
       "595212"
      ],
      "text/latex": [
       "595212"
      ],
      "text/markdown": [
       "595212"
      ],
      "text/plain": [
       "[1] 595212"
      ]
     },
     "metadata": {},
     "output_type": "display_data"
    },
    {
     "data": {
      "text/html": [
       "58"
      ],
      "text/latex": [
       "58"
      ],
      "text/markdown": [
       "58"
      ],
      "text/plain": [
       "[1] 58"
      ]
     },
     "metadata": {},
     "output_type": "display_data"
    }
   ],
   "source": [
    "imputed_df <- rbind(new_df0, new_df1)\n",
    "nrow(imputed_df)\n",
    "ncol(imputed_df)"
   ]
  },
  {
   "cell_type": "code",
   "execution_count": 17,
   "metadata": {
    "collapsed": true
   },
   "outputs": [],
   "source": [
    "imputed_df <- as.data.frame(imputed_df)\n",
    "shuffled_df <- imputed_df[sample(nrow(imputed_df)), ]\n",
    "colnames(shuffled_df) <- col_names"
   ]
  },
  {
   "cell_type": "code",
   "execution_count": 18,
   "metadata": {},
   "outputs": [
    {
     "data": {
      "text/html": [
       "<ol class=list-inline>\n",
       "\t<li>595212</li>\n",
       "\t<li>58</li>\n",
       "</ol>\n"
      ],
      "text/latex": [
       "\\begin{enumerate*}\n",
       "\\item 595212\n",
       "\\item 58\n",
       "\\end{enumerate*}\n"
      ],
      "text/markdown": [
       "1. 595212\n",
       "2. 58\n",
       "\n",
       "\n"
      ],
      "text/plain": [
       "[1] 595212     58"
      ]
     },
     "metadata": {},
     "output_type": "display_data"
    }
   ],
   "source": [
    "dim(shuffled_df)"
   ]
  },
  {
   "cell_type": "code",
   "execution_count": 19,
   "metadata": {
    "collapsed": true
   },
   "outputs": [],
   "source": [
    "write.csv(shuffled_df, file=\"C:/dev/safe_driver_kaggle/sandbox/imputed_train.csv\", row.names=FALSE)"
   ]
  }
 ],
 "metadata": {
  "kernelspec": {
   "display_name": "R",
   "language": "R",
   "name": "ir"
  },
  "language_info": {
   "codemirror_mode": "r",
   "file_extension": ".r",
   "mimetype": "text/x-r-source",
   "name": "R",
   "pygments_lexer": "r",
   "version": "3.4.1"
  }
 },
 "nbformat": 4,
 "nbformat_minor": 2
}
